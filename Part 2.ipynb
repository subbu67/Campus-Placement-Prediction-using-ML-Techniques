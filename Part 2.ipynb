{
 "cells": [
  {
   "cell_type": "markdown",
   "metadata": {},
   "source": [
    "# MATH2319 - Machine Learning \n",
    "# Placement Prediction Phase 2\n",
    "## Project Group 74\n",
    "#### Subbiah Soundarapandian(S3825012), Sudershan Ravi(S3829895)"
   ]
  },
  {
   "cell_type": "markdown",
   "metadata": {},
   "source": [
    "## Table of Contents\n",
    "1. [Introduction](#introduction)<br>\n",
    "    1.1. [Report Overview](#RO)<br>\n",
    "    1.2. [Overview of Methodology](#mo)<br>\n",
    "2. [Predictive Modelling](#pm)<br>\n",
    "    2.1.[Feature Selection](#fs)<br>\n",
    "    2.2.[Model Fitting and Tuning](#mf)<br>\n",
    "    2.3.[Model Comparison](#mc)<br>\n",
    "3. [Critique & Limitation](#cl)<br>\n",
    "4. [Summary & Conclusions](#sc)<br>\n",
    "    4.1.[Project Summary](#ps)<br>\n",
    "    4.2.[Summary of Findings](#sof)<br>\n",
    "    4.3.[Conclusions](#con)<br>\n",
    "5. [References](#ref)"
   ]
  },
  {
   "cell_type": "markdown",
   "metadata": {},
   "source": [
    "## Introduction <a name=\"introduction\"></a>"
   ]
  },
  {
   "cell_type": "markdown",
   "metadata": {},
   "source": [
    "### Report Overview: <a name=\"RO\"></a>\n",
    "\n",
    "The [Campus placement prediction](https://www.kaggle.com/benroshan/factors-affecting-campus-placement)<sup>[1]</sup> dataset is prepared and fitted with four disparate models and predicted.<br>\n",
    "The results of the models are then compared to determine the optimal model."
   ]
  },
  {
   "cell_type": "markdown",
   "metadata": {},
   "source": [
    "### Overview of Methodology: <a name=\"OoM\"></a>\n",
    "\n",
    "The dataset, <b>'Placement_Data_Full_Class.csv'</b> is utilized for this project. It comprises 215 observations of 13 features which describe the various attributes of each student appearing for the placement interviews.<br>\n",
    "\n",
    "The above-mentioned dataset is prepared for model fitting by performing the following methods:\n",
    "\n",
    "* One-Hot Encoding the categorical features.\n",
    "* Splitting the descriptive features and the target feature.\n",
    "* Min-Max Scaling the descriptive features to be between 0 and 1.\n",
    "\n",
    "Feature Selection is then performed on the descriptive features to determine the most influencing features.<br>\n",
    "The dataset is split into train and test data to fit the model and evaluate with, respectively. <br>\n",
    "The train data is subsequently fit with all the 4 nominated models and evaluated for performance.<br>\n",
    "To avoid the occurrence of a \"lucky good fit\" which might influence the model performance metrics, K-Fold Validation is performed.<br>\n",
    "Following which, Hyperparameter Tuning is performed to choose the set of optimal hyperparameters for the algorithm along with calculating the mean test score to plot the receiver operating characteristic (ROC) curve to examine the diagnostic ability of the classifier in question.<br>\n",
    "Finally, a confusion matrix is plotted with the prediction values. <br> \n",
    "\n"
   ]
  },
  {
   "cell_type": "code",
   "execution_count": 1,
   "metadata": {},
   "outputs": [],
   "source": [
    "#IMPORTING THE LIBRARIES\n",
    "\n",
    "import warnings\n",
    "warnings.filterwarnings(\"ignore\")\n",
    "import pandas as pd\n",
    "import numpy as np\n",
    "from sklearn import metrics"
   ]
  },
  {
   "cell_type": "markdown",
   "metadata": {},
   "source": [
    "#### Setting Global Random Seed\n",
    "\n",
    "Global random seed is set to ensure the same state randomization is utilized throughout the entire project. "
   ]
  },
  {
   "cell_type": "code",
   "execution_count": 2,
   "metadata": {},
   "outputs": [],
   "source": [
    "# SETTING A GLOBAL RANDOM SEED VALUE\n",
    "\n",
    "# Set a seed value\n",
    "seed_value = 999 \n",
    "# 1. Initialise `PYTHONHASHSEED` environment variable\n",
    "import os\n",
    "os.environ['PYTHONHASHSEED']=str(seed_value)\n",
    "# 2. Initialise Python's own pseudo-random generator\n",
    "import random\n",
    "random.seed(seed_value)\n",
    "# 3. Initialise Numpy's pseudo-random generator\n",
    "import numpy as np\n",
    "np.random.seed(seed_value)"
   ]
  },
  {
   "cell_type": "markdown",
   "metadata": {},
   "source": [
    "Reading the cleaned dataset obtained from the phase 1 analysis of this project."
   ]
  },
  {
   "cell_type": "code",
   "execution_count": 3,
   "metadata": {},
   "outputs": [],
   "source": [
    "assignds = pd.read_csv(\"Phase1_CleanedData.csv\")"
   ]
  },
  {
   "cell_type": "code",
   "execution_count": 4,
   "metadata": {},
   "outputs": [
    {
     "data": {
      "text/plain": [
       "gender             object\n",
       "ssc_p             float64\n",
       "ssc_b              object\n",
       "hsc_p             float64\n",
       "hsc_b              object\n",
       "hsc_s              object\n",
       "degree_p          float64\n",
       "degree_t           object\n",
       "workex             object\n",
       "etest_p           float64\n",
       "specialisation     object\n",
       "mba_p             float64\n",
       "status             object\n",
       "dtype: object"
      ]
     },
     "execution_count": 4,
     "metadata": {},
     "output_type": "execute_result"
    }
   ],
   "source": [
    "assignds.dtypes"
   ]
  },
  {
   "cell_type": "code",
   "execution_count": 5,
   "metadata": {},
   "outputs": [
    {
     "data": {
      "text/html": [
       "<div>\n",
       "<style scoped>\n",
       "    .dataframe tbody tr th:only-of-type {\n",
       "        vertical-align: middle;\n",
       "    }\n",
       "\n",
       "    .dataframe tbody tr th {\n",
       "        vertical-align: top;\n",
       "    }\n",
       "\n",
       "    .dataframe thead th {\n",
       "        text-align: right;\n",
       "    }\n",
       "</style>\n",
       "<table border=\"1\" class=\"dataframe\">\n",
       "  <thead>\n",
       "    <tr style=\"text-align: right;\">\n",
       "      <th></th>\n",
       "      <th>gender</th>\n",
       "      <th>ssc_p</th>\n",
       "      <th>ssc_b</th>\n",
       "      <th>hsc_p</th>\n",
       "      <th>hsc_b</th>\n",
       "      <th>hsc_s</th>\n",
       "      <th>degree_p</th>\n",
       "      <th>degree_t</th>\n",
       "      <th>workex</th>\n",
       "      <th>etest_p</th>\n",
       "      <th>specialisation</th>\n",
       "      <th>mba_p</th>\n",
       "      <th>status</th>\n",
       "    </tr>\n",
       "  </thead>\n",
       "  <tbody>\n",
       "    <tr>\n",
       "      <th>0</th>\n",
       "      <td>M</td>\n",
       "      <td>67.00</td>\n",
       "      <td>Others</td>\n",
       "      <td>91.00</td>\n",
       "      <td>Others</td>\n",
       "      <td>Commerce</td>\n",
       "      <td>58.00</td>\n",
       "      <td>Sci&amp;Tech</td>\n",
       "      <td>No</td>\n",
       "      <td>55.00</td>\n",
       "      <td>Mkt&amp;HR</td>\n",
       "      <td>58.80</td>\n",
       "      <td>Placed</td>\n",
       "    </tr>\n",
       "    <tr>\n",
       "      <th>1</th>\n",
       "      <td>M</td>\n",
       "      <td>79.33</td>\n",
       "      <td>Central</td>\n",
       "      <td>78.33</td>\n",
       "      <td>Others</td>\n",
       "      <td>Science</td>\n",
       "      <td>77.48</td>\n",
       "      <td>Sci&amp;Tech</td>\n",
       "      <td>Yes</td>\n",
       "      <td>86.50</td>\n",
       "      <td>Mkt&amp;Fin</td>\n",
       "      <td>66.28</td>\n",
       "      <td>Placed</td>\n",
       "    </tr>\n",
       "    <tr>\n",
       "      <th>2</th>\n",
       "      <td>M</td>\n",
       "      <td>65.00</td>\n",
       "      <td>Central</td>\n",
       "      <td>68.00</td>\n",
       "      <td>Central</td>\n",
       "      <td>Arts</td>\n",
       "      <td>64.00</td>\n",
       "      <td>Comm&amp;Mgmt</td>\n",
       "      <td>No</td>\n",
       "      <td>75.00</td>\n",
       "      <td>Mkt&amp;Fin</td>\n",
       "      <td>57.80</td>\n",
       "      <td>Placed</td>\n",
       "    </tr>\n",
       "    <tr>\n",
       "      <th>3</th>\n",
       "      <td>M</td>\n",
       "      <td>56.00</td>\n",
       "      <td>Central</td>\n",
       "      <td>52.00</td>\n",
       "      <td>Central</td>\n",
       "      <td>Science</td>\n",
       "      <td>52.00</td>\n",
       "      <td>Sci&amp;Tech</td>\n",
       "      <td>No</td>\n",
       "      <td>66.00</td>\n",
       "      <td>Mkt&amp;HR</td>\n",
       "      <td>59.43</td>\n",
       "      <td>Not Placed</td>\n",
       "    </tr>\n",
       "    <tr>\n",
       "      <th>4</th>\n",
       "      <td>M</td>\n",
       "      <td>85.80</td>\n",
       "      <td>Central</td>\n",
       "      <td>73.60</td>\n",
       "      <td>Central</td>\n",
       "      <td>Commerce</td>\n",
       "      <td>73.30</td>\n",
       "      <td>Comm&amp;Mgmt</td>\n",
       "      <td>No</td>\n",
       "      <td>96.80</td>\n",
       "      <td>Mkt&amp;Fin</td>\n",
       "      <td>55.50</td>\n",
       "      <td>Placed</td>\n",
       "    </tr>\n",
       "    <tr>\n",
       "      <th>5</th>\n",
       "      <td>M</td>\n",
       "      <td>55.00</td>\n",
       "      <td>Others</td>\n",
       "      <td>49.80</td>\n",
       "      <td>Others</td>\n",
       "      <td>Science</td>\n",
       "      <td>67.25</td>\n",
       "      <td>Sci&amp;Tech</td>\n",
       "      <td>Yes</td>\n",
       "      <td>55.00</td>\n",
       "      <td>Mkt&amp;Fin</td>\n",
       "      <td>51.58</td>\n",
       "      <td>Not Placed</td>\n",
       "    </tr>\n",
       "    <tr>\n",
       "      <th>6</th>\n",
       "      <td>F</td>\n",
       "      <td>46.00</td>\n",
       "      <td>Others</td>\n",
       "      <td>49.20</td>\n",
       "      <td>Others</td>\n",
       "      <td>Commerce</td>\n",
       "      <td>79.00</td>\n",
       "      <td>Comm&amp;Mgmt</td>\n",
       "      <td>No</td>\n",
       "      <td>74.28</td>\n",
       "      <td>Mkt&amp;Fin</td>\n",
       "      <td>53.29</td>\n",
       "      <td>Not Placed</td>\n",
       "    </tr>\n",
       "    <tr>\n",
       "      <th>7</th>\n",
       "      <td>M</td>\n",
       "      <td>82.00</td>\n",
       "      <td>Central</td>\n",
       "      <td>64.00</td>\n",
       "      <td>Central</td>\n",
       "      <td>Science</td>\n",
       "      <td>66.00</td>\n",
       "      <td>Sci&amp;Tech</td>\n",
       "      <td>Yes</td>\n",
       "      <td>67.00</td>\n",
       "      <td>Mkt&amp;Fin</td>\n",
       "      <td>62.14</td>\n",
       "      <td>Placed</td>\n",
       "    </tr>\n",
       "    <tr>\n",
       "      <th>8</th>\n",
       "      <td>M</td>\n",
       "      <td>73.00</td>\n",
       "      <td>Central</td>\n",
       "      <td>79.00</td>\n",
       "      <td>Central</td>\n",
       "      <td>Commerce</td>\n",
       "      <td>72.00</td>\n",
       "      <td>Comm&amp;Mgmt</td>\n",
       "      <td>No</td>\n",
       "      <td>91.34</td>\n",
       "      <td>Mkt&amp;Fin</td>\n",
       "      <td>61.29</td>\n",
       "      <td>Placed</td>\n",
       "    </tr>\n",
       "    <tr>\n",
       "      <th>9</th>\n",
       "      <td>M</td>\n",
       "      <td>58.00</td>\n",
       "      <td>Central</td>\n",
       "      <td>70.00</td>\n",
       "      <td>Central</td>\n",
       "      <td>Commerce</td>\n",
       "      <td>61.00</td>\n",
       "      <td>Comm&amp;Mgmt</td>\n",
       "      <td>No</td>\n",
       "      <td>54.00</td>\n",
       "      <td>Mkt&amp;Fin</td>\n",
       "      <td>52.21</td>\n",
       "      <td>Not Placed</td>\n",
       "    </tr>\n",
       "  </tbody>\n",
       "</table>\n",
       "</div>"
      ],
      "text/plain": [
       "  gender  ssc_p    ssc_b  hsc_p    hsc_b     hsc_s  degree_p   degree_t  \\\n",
       "0      M  67.00   Others  91.00   Others  Commerce     58.00   Sci&Tech   \n",
       "1      M  79.33  Central  78.33   Others   Science     77.48   Sci&Tech   \n",
       "2      M  65.00  Central  68.00  Central      Arts     64.00  Comm&Mgmt   \n",
       "3      M  56.00  Central  52.00  Central   Science     52.00   Sci&Tech   \n",
       "4      M  85.80  Central  73.60  Central  Commerce     73.30  Comm&Mgmt   \n",
       "5      M  55.00   Others  49.80   Others   Science     67.25   Sci&Tech   \n",
       "6      F  46.00   Others  49.20   Others  Commerce     79.00  Comm&Mgmt   \n",
       "7      M  82.00  Central  64.00  Central   Science     66.00   Sci&Tech   \n",
       "8      M  73.00  Central  79.00  Central  Commerce     72.00  Comm&Mgmt   \n",
       "9      M  58.00  Central  70.00  Central  Commerce     61.00  Comm&Mgmt   \n",
       "\n",
       "  workex  etest_p specialisation  mba_p      status  \n",
       "0     No    55.00         Mkt&HR  58.80      Placed  \n",
       "1    Yes    86.50        Mkt&Fin  66.28      Placed  \n",
       "2     No    75.00        Mkt&Fin  57.80      Placed  \n",
       "3     No    66.00         Mkt&HR  59.43  Not Placed  \n",
       "4     No    96.80        Mkt&Fin  55.50      Placed  \n",
       "5    Yes    55.00        Mkt&Fin  51.58  Not Placed  \n",
       "6     No    74.28        Mkt&Fin  53.29  Not Placed  \n",
       "7    Yes    67.00        Mkt&Fin  62.14      Placed  \n",
       "8     No    91.34        Mkt&Fin  61.29      Placed  \n",
       "9     No    54.00        Mkt&Fin  52.21  Not Placed  "
      ]
     },
     "execution_count": 5,
     "metadata": {},
     "output_type": "execute_result"
    }
   ],
   "source": [
    "assignds.head(10)"
   ]
  },
  {
   "cell_type": "code",
   "execution_count": 6,
   "metadata": {},
   "outputs": [
    {
     "data": {
      "text/plain": [
       "(214, 13)"
      ]
     },
     "execution_count": 6,
     "metadata": {},
     "output_type": "execute_result"
    }
   ],
   "source": [
    "assignds.shape"
   ]
  },
  {
   "cell_type": "markdown",
   "metadata": {},
   "source": [
    "#### Encoding the Categorical Variables\n",
    "\n",
    "Below step shows the one hot encoding of categorical variables."
   ]
  },
  {
   "cell_type": "code",
   "execution_count": 7,
   "metadata": {},
   "outputs": [],
   "source": [
    "# One Hot Encoding the categorical columns with integer values\n",
    "\n",
    "for col in assignds.select_dtypes(include='object').columns:\n",
    "    n = len(assignds[col].unique())\n",
    "    if (n == 2):\n",
    "        assignds[col] = pd.get_dummies(assignds[col], drop_first=True)\n",
    "        \n",
    "assignds = pd.get_dummies(assignds)"
   ]
  },
  {
   "cell_type": "code",
   "execution_count": 8,
   "metadata": {},
   "outputs": [
    {
     "data": {
      "text/html": [
       "<div>\n",
       "<style scoped>\n",
       "    .dataframe tbody tr th:only-of-type {\n",
       "        vertical-align: middle;\n",
       "    }\n",
       "\n",
       "    .dataframe tbody tr th {\n",
       "        vertical-align: top;\n",
       "    }\n",
       "\n",
       "    .dataframe thead th {\n",
       "        text-align: right;\n",
       "    }\n",
       "</style>\n",
       "<table border=\"1\" class=\"dataframe\">\n",
       "  <thead>\n",
       "    <tr style=\"text-align: right;\">\n",
       "      <th></th>\n",
       "      <th>gender</th>\n",
       "      <th>ssc_p</th>\n",
       "      <th>ssc_b</th>\n",
       "      <th>hsc_p</th>\n",
       "      <th>hsc_b</th>\n",
       "      <th>degree_p</th>\n",
       "      <th>workex</th>\n",
       "      <th>etest_p</th>\n",
       "      <th>specialisation</th>\n",
       "      <th>mba_p</th>\n",
       "      <th>status</th>\n",
       "      <th>hsc_s_Arts</th>\n",
       "      <th>hsc_s_Commerce</th>\n",
       "      <th>hsc_s_Science</th>\n",
       "      <th>degree_t_Comm&amp;Mgmt</th>\n",
       "      <th>degree_t_Others</th>\n",
       "      <th>degree_t_Sci&amp;Tech</th>\n",
       "    </tr>\n",
       "  </thead>\n",
       "  <tbody>\n",
       "    <tr>\n",
       "      <th>0</th>\n",
       "      <td>1</td>\n",
       "      <td>67.00</td>\n",
       "      <td>1</td>\n",
       "      <td>91.00</td>\n",
       "      <td>1</td>\n",
       "      <td>58.00</td>\n",
       "      <td>0</td>\n",
       "      <td>55.00</td>\n",
       "      <td>1</td>\n",
       "      <td>58.80</td>\n",
       "      <td>1</td>\n",
       "      <td>0</td>\n",
       "      <td>1</td>\n",
       "      <td>0</td>\n",
       "      <td>0</td>\n",
       "      <td>0</td>\n",
       "      <td>1</td>\n",
       "    </tr>\n",
       "    <tr>\n",
       "      <th>1</th>\n",
       "      <td>1</td>\n",
       "      <td>79.33</td>\n",
       "      <td>0</td>\n",
       "      <td>78.33</td>\n",
       "      <td>1</td>\n",
       "      <td>77.48</td>\n",
       "      <td>1</td>\n",
       "      <td>86.50</td>\n",
       "      <td>0</td>\n",
       "      <td>66.28</td>\n",
       "      <td>1</td>\n",
       "      <td>0</td>\n",
       "      <td>0</td>\n",
       "      <td>1</td>\n",
       "      <td>0</td>\n",
       "      <td>0</td>\n",
       "      <td>1</td>\n",
       "    </tr>\n",
       "    <tr>\n",
       "      <th>2</th>\n",
       "      <td>1</td>\n",
       "      <td>65.00</td>\n",
       "      <td>0</td>\n",
       "      <td>68.00</td>\n",
       "      <td>0</td>\n",
       "      <td>64.00</td>\n",
       "      <td>0</td>\n",
       "      <td>75.00</td>\n",
       "      <td>0</td>\n",
       "      <td>57.80</td>\n",
       "      <td>1</td>\n",
       "      <td>1</td>\n",
       "      <td>0</td>\n",
       "      <td>0</td>\n",
       "      <td>1</td>\n",
       "      <td>0</td>\n",
       "      <td>0</td>\n",
       "    </tr>\n",
       "    <tr>\n",
       "      <th>3</th>\n",
       "      <td>1</td>\n",
       "      <td>56.00</td>\n",
       "      <td>0</td>\n",
       "      <td>52.00</td>\n",
       "      <td>0</td>\n",
       "      <td>52.00</td>\n",
       "      <td>0</td>\n",
       "      <td>66.00</td>\n",
       "      <td>1</td>\n",
       "      <td>59.43</td>\n",
       "      <td>0</td>\n",
       "      <td>0</td>\n",
       "      <td>0</td>\n",
       "      <td>1</td>\n",
       "      <td>0</td>\n",
       "      <td>0</td>\n",
       "      <td>1</td>\n",
       "    </tr>\n",
       "    <tr>\n",
       "      <th>4</th>\n",
       "      <td>1</td>\n",
       "      <td>85.80</td>\n",
       "      <td>0</td>\n",
       "      <td>73.60</td>\n",
       "      <td>0</td>\n",
       "      <td>73.30</td>\n",
       "      <td>0</td>\n",
       "      <td>96.80</td>\n",
       "      <td>0</td>\n",
       "      <td>55.50</td>\n",
       "      <td>1</td>\n",
       "      <td>0</td>\n",
       "      <td>1</td>\n",
       "      <td>0</td>\n",
       "      <td>1</td>\n",
       "      <td>0</td>\n",
       "      <td>0</td>\n",
       "    </tr>\n",
       "    <tr>\n",
       "      <th>5</th>\n",
       "      <td>1</td>\n",
       "      <td>55.00</td>\n",
       "      <td>1</td>\n",
       "      <td>49.80</td>\n",
       "      <td>1</td>\n",
       "      <td>67.25</td>\n",
       "      <td>1</td>\n",
       "      <td>55.00</td>\n",
       "      <td>0</td>\n",
       "      <td>51.58</td>\n",
       "      <td>0</td>\n",
       "      <td>0</td>\n",
       "      <td>0</td>\n",
       "      <td>1</td>\n",
       "      <td>0</td>\n",
       "      <td>0</td>\n",
       "      <td>1</td>\n",
       "    </tr>\n",
       "    <tr>\n",
       "      <th>6</th>\n",
       "      <td>0</td>\n",
       "      <td>46.00</td>\n",
       "      <td>1</td>\n",
       "      <td>49.20</td>\n",
       "      <td>1</td>\n",
       "      <td>79.00</td>\n",
       "      <td>0</td>\n",
       "      <td>74.28</td>\n",
       "      <td>0</td>\n",
       "      <td>53.29</td>\n",
       "      <td>0</td>\n",
       "      <td>0</td>\n",
       "      <td>1</td>\n",
       "      <td>0</td>\n",
       "      <td>1</td>\n",
       "      <td>0</td>\n",
       "      <td>0</td>\n",
       "    </tr>\n",
       "    <tr>\n",
       "      <th>7</th>\n",
       "      <td>1</td>\n",
       "      <td>82.00</td>\n",
       "      <td>0</td>\n",
       "      <td>64.00</td>\n",
       "      <td>0</td>\n",
       "      <td>66.00</td>\n",
       "      <td>1</td>\n",
       "      <td>67.00</td>\n",
       "      <td>0</td>\n",
       "      <td>62.14</td>\n",
       "      <td>1</td>\n",
       "      <td>0</td>\n",
       "      <td>0</td>\n",
       "      <td>1</td>\n",
       "      <td>0</td>\n",
       "      <td>0</td>\n",
       "      <td>1</td>\n",
       "    </tr>\n",
       "    <tr>\n",
       "      <th>8</th>\n",
       "      <td>1</td>\n",
       "      <td>73.00</td>\n",
       "      <td>0</td>\n",
       "      <td>79.00</td>\n",
       "      <td>0</td>\n",
       "      <td>72.00</td>\n",
       "      <td>0</td>\n",
       "      <td>91.34</td>\n",
       "      <td>0</td>\n",
       "      <td>61.29</td>\n",
       "      <td>1</td>\n",
       "      <td>0</td>\n",
       "      <td>1</td>\n",
       "      <td>0</td>\n",
       "      <td>1</td>\n",
       "      <td>0</td>\n",
       "      <td>0</td>\n",
       "    </tr>\n",
       "    <tr>\n",
       "      <th>9</th>\n",
       "      <td>1</td>\n",
       "      <td>58.00</td>\n",
       "      <td>0</td>\n",
       "      <td>70.00</td>\n",
       "      <td>0</td>\n",
       "      <td>61.00</td>\n",
       "      <td>0</td>\n",
       "      <td>54.00</td>\n",
       "      <td>0</td>\n",
       "      <td>52.21</td>\n",
       "      <td>0</td>\n",
       "      <td>0</td>\n",
       "      <td>1</td>\n",
       "      <td>0</td>\n",
       "      <td>1</td>\n",
       "      <td>0</td>\n",
       "      <td>0</td>\n",
       "    </tr>\n",
       "  </tbody>\n",
       "</table>\n",
       "</div>"
      ],
      "text/plain": [
       "   gender  ssc_p  ssc_b  hsc_p  hsc_b  degree_p  workex  etest_p  \\\n",
       "0       1  67.00      1  91.00      1     58.00       0    55.00   \n",
       "1       1  79.33      0  78.33      1     77.48       1    86.50   \n",
       "2       1  65.00      0  68.00      0     64.00       0    75.00   \n",
       "3       1  56.00      0  52.00      0     52.00       0    66.00   \n",
       "4       1  85.80      0  73.60      0     73.30       0    96.80   \n",
       "5       1  55.00      1  49.80      1     67.25       1    55.00   \n",
       "6       0  46.00      1  49.20      1     79.00       0    74.28   \n",
       "7       1  82.00      0  64.00      0     66.00       1    67.00   \n",
       "8       1  73.00      0  79.00      0     72.00       0    91.34   \n",
       "9       1  58.00      0  70.00      0     61.00       0    54.00   \n",
       "\n",
       "   specialisation  mba_p  status  hsc_s_Arts  hsc_s_Commerce  hsc_s_Science  \\\n",
       "0               1  58.80       1           0               1              0   \n",
       "1               0  66.28       1           0               0              1   \n",
       "2               0  57.80       1           1               0              0   \n",
       "3               1  59.43       0           0               0              1   \n",
       "4               0  55.50       1           0               1              0   \n",
       "5               0  51.58       0           0               0              1   \n",
       "6               0  53.29       0           0               1              0   \n",
       "7               0  62.14       1           0               0              1   \n",
       "8               0  61.29       1           0               1              0   \n",
       "9               0  52.21       0           0               1              0   \n",
       "\n",
       "   degree_t_Comm&Mgmt  degree_t_Others  degree_t_Sci&Tech  \n",
       "0                   0                0                  1  \n",
       "1                   0                0                  1  \n",
       "2                   1                0                  0  \n",
       "3                   0                0                  1  \n",
       "4                   1                0                  0  \n",
       "5                   0                0                  1  \n",
       "6                   1                0                  0  \n",
       "7                   0                0                  1  \n",
       "8                   1                0                  0  \n",
       "9                   1                0                  0  "
      ]
     },
     "execution_count": 8,
     "metadata": {},
     "output_type": "execute_result"
    }
   ],
   "source": [
    "assignds.head(10)"
   ]
  },
  {
   "cell_type": "code",
   "execution_count": 9,
   "metadata": {},
   "outputs": [
    {
     "data": {
      "text/html": [
       "<div>\n",
       "<style scoped>\n",
       "    .dataframe tbody tr th:only-of-type {\n",
       "        vertical-align: middle;\n",
       "    }\n",
       "\n",
       "    .dataframe tbody tr th {\n",
       "        vertical-align: top;\n",
       "    }\n",
       "\n",
       "    .dataframe thead th {\n",
       "        text-align: right;\n",
       "    }\n",
       "</style>\n",
       "<table border=\"1\" class=\"dataframe\">\n",
       "  <thead>\n",
       "    <tr style=\"text-align: right;\">\n",
       "      <th></th>\n",
       "      <th>gender</th>\n",
       "      <th>ssc_p</th>\n",
       "      <th>ssc_b</th>\n",
       "      <th>hsc_p</th>\n",
       "      <th>hsc_b</th>\n",
       "      <th>degree_p</th>\n",
       "      <th>workex</th>\n",
       "      <th>etest_p</th>\n",
       "      <th>specialisation</th>\n",
       "      <th>mba_p</th>\n",
       "      <th>hsc_s_Arts</th>\n",
       "      <th>hsc_s_Commerce</th>\n",
       "      <th>hsc_s_Science</th>\n",
       "      <th>degree_t_Comm&amp;Mgmt</th>\n",
       "      <th>degree_t_Others</th>\n",
       "      <th>degree_t_Sci&amp;Tech</th>\n",
       "    </tr>\n",
       "  </thead>\n",
       "  <tbody>\n",
       "    <tr>\n",
       "      <th>0</th>\n",
       "      <td>1</td>\n",
       "      <td>67.00</td>\n",
       "      <td>1</td>\n",
       "      <td>91.00</td>\n",
       "      <td>1</td>\n",
       "      <td>58.00</td>\n",
       "      <td>0</td>\n",
       "      <td>55.00</td>\n",
       "      <td>1</td>\n",
       "      <td>58.80</td>\n",
       "      <td>0</td>\n",
       "      <td>1</td>\n",
       "      <td>0</td>\n",
       "      <td>0</td>\n",
       "      <td>0</td>\n",
       "      <td>1</td>\n",
       "    </tr>\n",
       "    <tr>\n",
       "      <th>1</th>\n",
       "      <td>1</td>\n",
       "      <td>79.33</td>\n",
       "      <td>0</td>\n",
       "      <td>78.33</td>\n",
       "      <td>1</td>\n",
       "      <td>77.48</td>\n",
       "      <td>1</td>\n",
       "      <td>86.50</td>\n",
       "      <td>0</td>\n",
       "      <td>66.28</td>\n",
       "      <td>0</td>\n",
       "      <td>0</td>\n",
       "      <td>1</td>\n",
       "      <td>0</td>\n",
       "      <td>0</td>\n",
       "      <td>1</td>\n",
       "    </tr>\n",
       "    <tr>\n",
       "      <th>2</th>\n",
       "      <td>1</td>\n",
       "      <td>65.00</td>\n",
       "      <td>0</td>\n",
       "      <td>68.00</td>\n",
       "      <td>0</td>\n",
       "      <td>64.00</td>\n",
       "      <td>0</td>\n",
       "      <td>75.00</td>\n",
       "      <td>0</td>\n",
       "      <td>57.80</td>\n",
       "      <td>1</td>\n",
       "      <td>0</td>\n",
       "      <td>0</td>\n",
       "      <td>1</td>\n",
       "      <td>0</td>\n",
       "      <td>0</td>\n",
       "    </tr>\n",
       "    <tr>\n",
       "      <th>3</th>\n",
       "      <td>1</td>\n",
       "      <td>56.00</td>\n",
       "      <td>0</td>\n",
       "      <td>52.00</td>\n",
       "      <td>0</td>\n",
       "      <td>52.00</td>\n",
       "      <td>0</td>\n",
       "      <td>66.00</td>\n",
       "      <td>1</td>\n",
       "      <td>59.43</td>\n",
       "      <td>0</td>\n",
       "      <td>0</td>\n",
       "      <td>1</td>\n",
       "      <td>0</td>\n",
       "      <td>0</td>\n",
       "      <td>1</td>\n",
       "    </tr>\n",
       "    <tr>\n",
       "      <th>4</th>\n",
       "      <td>1</td>\n",
       "      <td>85.80</td>\n",
       "      <td>0</td>\n",
       "      <td>73.60</td>\n",
       "      <td>0</td>\n",
       "      <td>73.30</td>\n",
       "      <td>0</td>\n",
       "      <td>96.80</td>\n",
       "      <td>0</td>\n",
       "      <td>55.50</td>\n",
       "      <td>0</td>\n",
       "      <td>1</td>\n",
       "      <td>0</td>\n",
       "      <td>1</td>\n",
       "      <td>0</td>\n",
       "      <td>0</td>\n",
       "    </tr>\n",
       "    <tr>\n",
       "      <th>5</th>\n",
       "      <td>1</td>\n",
       "      <td>55.00</td>\n",
       "      <td>1</td>\n",
       "      <td>49.80</td>\n",
       "      <td>1</td>\n",
       "      <td>67.25</td>\n",
       "      <td>1</td>\n",
       "      <td>55.00</td>\n",
       "      <td>0</td>\n",
       "      <td>51.58</td>\n",
       "      <td>0</td>\n",
       "      <td>0</td>\n",
       "      <td>1</td>\n",
       "      <td>0</td>\n",
       "      <td>0</td>\n",
       "      <td>1</td>\n",
       "    </tr>\n",
       "    <tr>\n",
       "      <th>6</th>\n",
       "      <td>0</td>\n",
       "      <td>46.00</td>\n",
       "      <td>1</td>\n",
       "      <td>49.20</td>\n",
       "      <td>1</td>\n",
       "      <td>79.00</td>\n",
       "      <td>0</td>\n",
       "      <td>74.28</td>\n",
       "      <td>0</td>\n",
       "      <td>53.29</td>\n",
       "      <td>0</td>\n",
       "      <td>1</td>\n",
       "      <td>0</td>\n",
       "      <td>1</td>\n",
       "      <td>0</td>\n",
       "      <td>0</td>\n",
       "    </tr>\n",
       "    <tr>\n",
       "      <th>7</th>\n",
       "      <td>1</td>\n",
       "      <td>82.00</td>\n",
       "      <td>0</td>\n",
       "      <td>64.00</td>\n",
       "      <td>0</td>\n",
       "      <td>66.00</td>\n",
       "      <td>1</td>\n",
       "      <td>67.00</td>\n",
       "      <td>0</td>\n",
       "      <td>62.14</td>\n",
       "      <td>0</td>\n",
       "      <td>0</td>\n",
       "      <td>1</td>\n",
       "      <td>0</td>\n",
       "      <td>0</td>\n",
       "      <td>1</td>\n",
       "    </tr>\n",
       "    <tr>\n",
       "      <th>8</th>\n",
       "      <td>1</td>\n",
       "      <td>73.00</td>\n",
       "      <td>0</td>\n",
       "      <td>79.00</td>\n",
       "      <td>0</td>\n",
       "      <td>72.00</td>\n",
       "      <td>0</td>\n",
       "      <td>91.34</td>\n",
       "      <td>0</td>\n",
       "      <td>61.29</td>\n",
       "      <td>0</td>\n",
       "      <td>1</td>\n",
       "      <td>0</td>\n",
       "      <td>1</td>\n",
       "      <td>0</td>\n",
       "      <td>0</td>\n",
       "    </tr>\n",
       "    <tr>\n",
       "      <th>9</th>\n",
       "      <td>1</td>\n",
       "      <td>58.00</td>\n",
       "      <td>0</td>\n",
       "      <td>70.00</td>\n",
       "      <td>0</td>\n",
       "      <td>61.00</td>\n",
       "      <td>0</td>\n",
       "      <td>54.00</td>\n",
       "      <td>0</td>\n",
       "      <td>52.21</td>\n",
       "      <td>0</td>\n",
       "      <td>1</td>\n",
       "      <td>0</td>\n",
       "      <td>1</td>\n",
       "      <td>0</td>\n",
       "      <td>0</td>\n",
       "    </tr>\n",
       "  </tbody>\n",
       "</table>\n",
       "</div>"
      ],
      "text/plain": [
       "   gender  ssc_p  ssc_b  hsc_p  hsc_b  degree_p  workex  etest_p  \\\n",
       "0       1  67.00      1  91.00      1     58.00       0    55.00   \n",
       "1       1  79.33      0  78.33      1     77.48       1    86.50   \n",
       "2       1  65.00      0  68.00      0     64.00       0    75.00   \n",
       "3       1  56.00      0  52.00      0     52.00       0    66.00   \n",
       "4       1  85.80      0  73.60      0     73.30       0    96.80   \n",
       "5       1  55.00      1  49.80      1     67.25       1    55.00   \n",
       "6       0  46.00      1  49.20      1     79.00       0    74.28   \n",
       "7       1  82.00      0  64.00      0     66.00       1    67.00   \n",
       "8       1  73.00      0  79.00      0     72.00       0    91.34   \n",
       "9       1  58.00      0  70.00      0     61.00       0    54.00   \n",
       "\n",
       "   specialisation  mba_p  hsc_s_Arts  hsc_s_Commerce  hsc_s_Science  \\\n",
       "0               1  58.80           0               1              0   \n",
       "1               0  66.28           0               0              1   \n",
       "2               0  57.80           1               0              0   \n",
       "3               1  59.43           0               0              1   \n",
       "4               0  55.50           0               1              0   \n",
       "5               0  51.58           0               0              1   \n",
       "6               0  53.29           0               1              0   \n",
       "7               0  62.14           0               0              1   \n",
       "8               0  61.29           0               1              0   \n",
       "9               0  52.21           0               1              0   \n",
       "\n",
       "   degree_t_Comm&Mgmt  degree_t_Others  degree_t_Sci&Tech  \n",
       "0                   0                0                  1  \n",
       "1                   0                0                  1  \n",
       "2                   1                0                  0  \n",
       "3                   0                0                  1  \n",
       "4                   1                0                  0  \n",
       "5                   0                0                  1  \n",
       "6                   1                0                  0  \n",
       "7                   0                0                  1  \n",
       "8                   1                0                  0  \n",
       "9                   1                0                  0  "
      ]
     },
     "execution_count": 9,
     "metadata": {},
     "output_type": "execute_result"
    }
   ],
   "source": [
    "# Splitting the descriptive features and Target Variable\n",
    "\n",
    "Data = assignds.drop(['status'],axis= 1)\n",
    "Target = assignds['status']\n",
    "Data.head(10)"
   ]
  },
  {
   "cell_type": "markdown",
   "metadata": {},
   "source": [
    "Let us have a look at the number of positive and negative responses in the target variable."
   ]
  },
  {
   "cell_type": "code",
   "execution_count": 10,
   "metadata": {},
   "outputs": [
    {
     "data": {
      "text/plain": [
       "1    147\n",
       "0     67\n",
       "Name: status, dtype: int64"
      ]
     },
     "execution_count": 10,
     "metadata": {},
     "output_type": "execute_result"
    }
   ],
   "source": [
    "# Checking the value counts of target variable\n",
    "\n",
    "Target.value_counts()"
   ]
  },
  {
   "cell_type": "markdown",
   "metadata": {},
   "source": [
    "#### Scaling of variables\n",
    "\n",
    "To avoid any discrepancies in the data, we perform MinMax Scaling to make sure all the variables that are sent to data are in the same range of 0 to 1."
   ]
  },
  {
   "cell_type": "code",
   "execution_count": 11,
   "metadata": {},
   "outputs": [
    {
     "data": {
      "text/html": [
       "<div>\n",
       "<style scoped>\n",
       "    .dataframe tbody tr th:only-of-type {\n",
       "        vertical-align: middle;\n",
       "    }\n",
       "\n",
       "    .dataframe tbody tr th {\n",
       "        vertical-align: top;\n",
       "    }\n",
       "\n",
       "    .dataframe thead th {\n",
       "        text-align: right;\n",
       "    }\n",
       "</style>\n",
       "<table border=\"1\" class=\"dataframe\">\n",
       "  <thead>\n",
       "    <tr style=\"text-align: right;\">\n",
       "      <th></th>\n",
       "      <th>gender</th>\n",
       "      <th>ssc_p</th>\n",
       "      <th>ssc_b</th>\n",
       "      <th>hsc_p</th>\n",
       "      <th>hsc_b</th>\n",
       "      <th>degree_p</th>\n",
       "      <th>workex</th>\n",
       "      <th>etest_p</th>\n",
       "      <th>specialisation</th>\n",
       "      <th>mba_p</th>\n",
       "      <th>hsc_s_Arts</th>\n",
       "      <th>hsc_s_Commerce</th>\n",
       "      <th>hsc_s_Science</th>\n",
       "      <th>degree_t_Comm&amp;Mgmt</th>\n",
       "      <th>degree_t_Others</th>\n",
       "      <th>degree_t_Sci&amp;Tech</th>\n",
       "    </tr>\n",
       "  </thead>\n",
       "  <tbody>\n",
       "    <tr>\n",
       "      <th>0</th>\n",
       "      <td>1.0</td>\n",
       "      <td>0.538240</td>\n",
       "      <td>1.0</td>\n",
       "      <td>0.889621</td>\n",
       "      <td>1.0</td>\n",
       "      <td>0.195122</td>\n",
       "      <td>0.0</td>\n",
       "      <td>0.104167</td>\n",
       "      <td>1.0</td>\n",
       "      <td>0.284483</td>\n",
       "      <td>0.0</td>\n",
       "      <td>1.0</td>\n",
       "      <td>0.0</td>\n",
       "      <td>0.0</td>\n",
       "      <td>0.0</td>\n",
       "      <td>1.0</td>\n",
       "    </tr>\n",
       "    <tr>\n",
       "      <th>1</th>\n",
       "      <td>1.0</td>\n",
       "      <td>0.792414</td>\n",
       "      <td>0.0</td>\n",
       "      <td>0.680890</td>\n",
       "      <td>1.0</td>\n",
       "      <td>0.670244</td>\n",
       "      <td>1.0</td>\n",
       "      <td>0.760417</td>\n",
       "      <td>0.0</td>\n",
       "      <td>0.564843</td>\n",
       "      <td>0.0</td>\n",
       "      <td>0.0</td>\n",
       "      <td>1.0</td>\n",
       "      <td>0.0</td>\n",
       "      <td>0.0</td>\n",
       "      <td>1.0</td>\n",
       "    </tr>\n",
       "    <tr>\n",
       "      <th>2</th>\n",
       "      <td>1.0</td>\n",
       "      <td>0.497011</td>\n",
       "      <td>0.0</td>\n",
       "      <td>0.510708</td>\n",
       "      <td>0.0</td>\n",
       "      <td>0.341463</td>\n",
       "      <td>0.0</td>\n",
       "      <td>0.520833</td>\n",
       "      <td>0.0</td>\n",
       "      <td>0.247001</td>\n",
       "      <td>1.0</td>\n",
       "      <td>0.0</td>\n",
       "      <td>0.0</td>\n",
       "      <td>1.0</td>\n",
       "      <td>0.0</td>\n",
       "      <td>0.0</td>\n",
       "    </tr>\n",
       "    <tr>\n",
       "      <th>3</th>\n",
       "      <td>1.0</td>\n",
       "      <td>0.311482</td>\n",
       "      <td>0.0</td>\n",
       "      <td>0.247117</td>\n",
       "      <td>0.0</td>\n",
       "      <td>0.048780</td>\n",
       "      <td>0.0</td>\n",
       "      <td>0.333333</td>\n",
       "      <td>1.0</td>\n",
       "      <td>0.308096</td>\n",
       "      <td>0.0</td>\n",
       "      <td>0.0</td>\n",
       "      <td>1.0</td>\n",
       "      <td>0.0</td>\n",
       "      <td>0.0</td>\n",
       "      <td>1.0</td>\n",
       "    </tr>\n",
       "    <tr>\n",
       "      <th>4</th>\n",
       "      <td>1.0</td>\n",
       "      <td>0.925788</td>\n",
       "      <td>0.0</td>\n",
       "      <td>0.602965</td>\n",
       "      <td>0.0</td>\n",
       "      <td>0.568293</td>\n",
       "      <td>0.0</td>\n",
       "      <td>0.975000</td>\n",
       "      <td>0.0</td>\n",
       "      <td>0.160795</td>\n",
       "      <td>0.0</td>\n",
       "      <td>1.0</td>\n",
       "      <td>0.0</td>\n",
       "      <td>1.0</td>\n",
       "      <td>0.0</td>\n",
       "      <td>0.0</td>\n",
       "    </tr>\n",
       "    <tr>\n",
       "      <th>5</th>\n",
       "      <td>1.0</td>\n",
       "      <td>0.290868</td>\n",
       "      <td>1.0</td>\n",
       "      <td>0.210873</td>\n",
       "      <td>1.0</td>\n",
       "      <td>0.420732</td>\n",
       "      <td>1.0</td>\n",
       "      <td>0.104167</td>\n",
       "      <td>0.0</td>\n",
       "      <td>0.013868</td>\n",
       "      <td>0.0</td>\n",
       "      <td>0.0</td>\n",
       "      <td>1.0</td>\n",
       "      <td>0.0</td>\n",
       "      <td>0.0</td>\n",
       "      <td>1.0</td>\n",
       "    </tr>\n",
       "    <tr>\n",
       "      <th>6</th>\n",
       "      <td>0.0</td>\n",
       "      <td>0.105339</td>\n",
       "      <td>1.0</td>\n",
       "      <td>0.200988</td>\n",
       "      <td>1.0</td>\n",
       "      <td>0.707317</td>\n",
       "      <td>0.0</td>\n",
       "      <td>0.505833</td>\n",
       "      <td>0.0</td>\n",
       "      <td>0.077961</td>\n",
       "      <td>0.0</td>\n",
       "      <td>1.0</td>\n",
       "      <td>0.0</td>\n",
       "      <td>1.0</td>\n",
       "      <td>0.0</td>\n",
       "      <td>0.0</td>\n",
       "    </tr>\n",
       "    <tr>\n",
       "      <th>7</th>\n",
       "      <td>1.0</td>\n",
       "      <td>0.847454</td>\n",
       "      <td>0.0</td>\n",
       "      <td>0.444811</td>\n",
       "      <td>0.0</td>\n",
       "      <td>0.390244</td>\n",
       "      <td>1.0</td>\n",
       "      <td>0.354167</td>\n",
       "      <td>0.0</td>\n",
       "      <td>0.409670</td>\n",
       "      <td>0.0</td>\n",
       "      <td>0.0</td>\n",
       "      <td>1.0</td>\n",
       "      <td>0.0</td>\n",
       "      <td>0.0</td>\n",
       "      <td>1.0</td>\n",
       "    </tr>\n",
       "    <tr>\n",
       "      <th>8</th>\n",
       "      <td>1.0</td>\n",
       "      <td>0.661925</td>\n",
       "      <td>0.0</td>\n",
       "      <td>0.691928</td>\n",
       "      <td>0.0</td>\n",
       "      <td>0.536585</td>\n",
       "      <td>0.0</td>\n",
       "      <td>0.861250</td>\n",
       "      <td>0.0</td>\n",
       "      <td>0.377811</td>\n",
       "      <td>0.0</td>\n",
       "      <td>1.0</td>\n",
       "      <td>0.0</td>\n",
       "      <td>1.0</td>\n",
       "      <td>0.0</td>\n",
       "      <td>0.0</td>\n",
       "    </tr>\n",
       "    <tr>\n",
       "      <th>9</th>\n",
       "      <td>1.0</td>\n",
       "      <td>0.352711</td>\n",
       "      <td>0.0</td>\n",
       "      <td>0.543657</td>\n",
       "      <td>0.0</td>\n",
       "      <td>0.268293</td>\n",
       "      <td>0.0</td>\n",
       "      <td>0.083333</td>\n",
       "      <td>0.0</td>\n",
       "      <td>0.037481</td>\n",
       "      <td>0.0</td>\n",
       "      <td>1.0</td>\n",
       "      <td>0.0</td>\n",
       "      <td>1.0</td>\n",
       "      <td>0.0</td>\n",
       "      <td>0.0</td>\n",
       "    </tr>\n",
       "  </tbody>\n",
       "</table>\n",
       "</div>"
      ],
      "text/plain": [
       "   gender     ssc_p  ssc_b     hsc_p  hsc_b  degree_p  workex   etest_p  \\\n",
       "0     1.0  0.538240    1.0  0.889621    1.0  0.195122     0.0  0.104167   \n",
       "1     1.0  0.792414    0.0  0.680890    1.0  0.670244     1.0  0.760417   \n",
       "2     1.0  0.497011    0.0  0.510708    0.0  0.341463     0.0  0.520833   \n",
       "3     1.0  0.311482    0.0  0.247117    0.0  0.048780     0.0  0.333333   \n",
       "4     1.0  0.925788    0.0  0.602965    0.0  0.568293     0.0  0.975000   \n",
       "5     1.0  0.290868    1.0  0.210873    1.0  0.420732     1.0  0.104167   \n",
       "6     0.0  0.105339    1.0  0.200988    1.0  0.707317     0.0  0.505833   \n",
       "7     1.0  0.847454    0.0  0.444811    0.0  0.390244     1.0  0.354167   \n",
       "8     1.0  0.661925    0.0  0.691928    0.0  0.536585     0.0  0.861250   \n",
       "9     1.0  0.352711    0.0  0.543657    0.0  0.268293     0.0  0.083333   \n",
       "\n",
       "   specialisation     mba_p  hsc_s_Arts  hsc_s_Commerce  hsc_s_Science  \\\n",
       "0             1.0  0.284483         0.0             1.0            0.0   \n",
       "1             0.0  0.564843         0.0             0.0            1.0   \n",
       "2             0.0  0.247001         1.0             0.0            0.0   \n",
       "3             1.0  0.308096         0.0             0.0            1.0   \n",
       "4             0.0  0.160795         0.0             1.0            0.0   \n",
       "5             0.0  0.013868         0.0             0.0            1.0   \n",
       "6             0.0  0.077961         0.0             1.0            0.0   \n",
       "7             0.0  0.409670         0.0             0.0            1.0   \n",
       "8             0.0  0.377811         0.0             1.0            0.0   \n",
       "9             0.0  0.037481         0.0             1.0            0.0   \n",
       "\n",
       "   degree_t_Comm&Mgmt  degree_t_Others  degree_t_Sci&Tech  \n",
       "0                 0.0              0.0                1.0  \n",
       "1                 0.0              0.0                1.0  \n",
       "2                 1.0              0.0                0.0  \n",
       "3                 0.0              0.0                1.0  \n",
       "4                 1.0              0.0                0.0  \n",
       "5                 0.0              0.0                1.0  \n",
       "6                 1.0              0.0                0.0  \n",
       "7                 0.0              0.0                1.0  \n",
       "8                 1.0              0.0                0.0  \n",
       "9                 1.0              0.0                0.0  "
      ]
     },
     "execution_count": 11,
     "metadata": {},
     "output_type": "execute_result"
    }
   ],
   "source": [
    "# Scaling the descriptive features\n",
    "\n",
    "from sklearn import preprocessing\n",
    "\n",
    "Data_Scaled = preprocessing.MinMaxScaler().fit_transform(Data)\n",
    "Data_Scaled = pd.DataFrame(Data_Scaled)\n",
    "Data_Scaled.columns = Data.columns\n",
    "Data_Scaled.head(10)"
   ]
  },
  {
   "cell_type": "markdown",
   "metadata": {},
   "source": [
    "### Feature Selection (FS): <a name=\"fs\"></a>\n",
    "\n",
    "Feature Selection is an often neglected method, but one which could improve the performance of a model algorithm significantly. There are various methods of feature selection and for the sake of this project, the F-Score method is selected as it is a statistical filter method.<br>\n",
    "The feature selection function is imported and the 9 most influential descriptive features in the dataset are determined. To achieve this, an index is created with the features and their respective F-Scores, sorted from the highest to lowest. To provide more perspective clarity, the F-Scores of the features are plotted against the importance.<br>\n",
    "Hence, the dataset is then sliced with the above mentioned features, to proceed with. "
   ]
  },
  {
   "cell_type": "code",
   "execution_count": 12,
   "metadata": {},
   "outputs": [
    {
     "data": {
      "text/plain": [
       "array([ 1,  3,  5,  6,  8,  7, 14,  0,  9], dtype=int64)"
      ]
     },
     "execution_count": 12,
     "metadata": {},
     "output_type": "execute_result"
    }
   ],
   "source": [
    "# FEATURE SELECTION\n",
    "\n",
    "from sklearn import feature_selection as fs\n",
    "\n",
    "fs_fit_fscore = fs.SelectKBest(fs.f_classif, k=9)\n",
    "fs_fit_fscore.fit_transform(Data_Scaled, Target)\n",
    "fs_indices_fscore = np.argsort(np.nan_to_num(fs_fit_fscore.scores_))[::-1][0:9]\n",
    "fs_indices_fscore"
   ]
  },
  {
   "cell_type": "code",
   "execution_count": 13,
   "metadata": {},
   "outputs": [
    {
     "data": {
      "text/plain": [
       "array(['ssc_p', 'hsc_p', 'degree_p', 'workex', 'specialisation',\n",
       "       'etest_p', 'degree_t_Others', 'gender', 'mba_p'], dtype=object)"
      ]
     },
     "execution_count": 13,
     "metadata": {},
     "output_type": "execute_result"
    }
   ],
   "source": [
    "# BEST FEATURES BASED ON F-SCORE\n",
    "\n",
    "best_features_fscore = Data_Scaled.columns[fs_indices_fscore].values\n",
    "best_features_fscore"
   ]
  },
  {
   "cell_type": "markdown",
   "metadata": {},
   "source": [
    "The above cell shows the top 9 features that are selected based on their F-Scores to proceed with model fitting."
   ]
  },
  {
   "cell_type": "code",
   "execution_count": 14,
   "metadata": {},
   "outputs": [
    {
     "data": {
      "text/plain": [
       "array([123.96100895,  68.00588081,  62.84242661,  17.10323624,\n",
       "        13.962742  ,   3.44384456,   2.92400914,   1.67554083,\n",
       "         1.41979219])"
      ]
     },
     "execution_count": 14,
     "metadata": {},
     "output_type": "execute_result"
    }
   ],
   "source": [
    "# F-SCORES OF TOP 9 IMPORTANT FEATURES\n",
    "\n",
    "feature_importances_fscore = fs_fit_fscore.scores_[fs_indices_fscore]\n",
    "feature_importances_fscore"
   ]
  },
  {
   "cell_type": "code",
   "execution_count": 15,
   "metadata": {},
   "outputs": [],
   "source": [
    "# Plotting the features with its F-Score\n",
    "\n",
    "import matplotlib.pyplot as plt\n",
    "%matplotlib inline \n",
    "%config InlineBackend.figure_format = 'retina'\n",
    "plt.style.use(\"ggplot\")\n",
    "\n",
    "def plot_imp(best_features, scores, method_name):   \n",
    "    plt.barh(best_features, scores)\n",
    "    plt.title(method_name + ' Feature Importances')\n",
    "    plt.xlabel(\"Importance\")\n",
    "    plt.ylabel(\"Features\")\n",
    "    plt.show()"
   ]
  },
  {
   "cell_type": "code",
   "execution_count": 16,
   "metadata": {},
   "outputs": [
    {
     "data": {
      "image/png": "[encoded data removed]",
      "text/plain": [
       "<Figure size 432x288 with 1 Axes>"
      ]
     },
     "metadata": {
      "image/png": {
       "height": 281,
       "width": 455
      }
     },
     "output_type": "display_data"
    }
   ],
   "source": [
    "plot_imp(best_features_fscore, feature_importances_fscore, 'F-Score')"
   ]
  },
  {
   "cell_type": "markdown",
   "metadata": {},
   "source": [
    "Selecting the best features to proceed with model fitting."
   ]
  },
  {
   "cell_type": "code",
   "execution_count": 17,
   "metadata": {},
   "outputs": [
    {
     "data": {
      "text/html": [
       "<div>\n",
       "<style scoped>\n",
       "    .dataframe tbody tr th:only-of-type {\n",
       "        vertical-align: middle;\n",
       "    }\n",
       "\n",
       "    .dataframe tbody tr th {\n",
       "        vertical-align: top;\n",
       "    }\n",
       "\n",
       "    .dataframe thead th {\n",
       "        text-align: right;\n",
       "    }\n",
       "</style>\n",
       "<table border=\"1\" class=\"dataframe\">\n",
       "  <thead>\n",
       "    <tr style=\"text-align: right;\">\n",
       "      <th></th>\n",
       "      <th>ssc_p</th>\n",
       "      <th>hsc_p</th>\n",
       "      <th>degree_p</th>\n",
       "      <th>workex</th>\n",
       "      <th>specialisation</th>\n",
       "      <th>etest_p</th>\n",
       "      <th>degree_t_Others</th>\n",
       "      <th>gender</th>\n",
       "      <th>mba_p</th>\n",
       "    </tr>\n",
       "  </thead>\n",
       "  <tbody>\n",
       "    <tr>\n",
       "      <th>0</th>\n",
       "      <td>0.538240</td>\n",
       "      <td>0.889621</td>\n",
       "      <td>0.195122</td>\n",
       "      <td>0.0</td>\n",
       "      <td>1.0</td>\n",
       "      <td>0.104167</td>\n",
       "      <td>0.0</td>\n",
       "      <td>1.0</td>\n",
       "      <td>0.284483</td>\n",
       "    </tr>\n",
       "    <tr>\n",
       "      <th>1</th>\n",
       "      <td>0.792414</td>\n",
       "      <td>0.680890</td>\n",
       "      <td>0.670244</td>\n",
       "      <td>1.0</td>\n",
       "      <td>0.0</td>\n",
       "      <td>0.760417</td>\n",
       "      <td>0.0</td>\n",
       "      <td>1.0</td>\n",
       "      <td>0.564843</td>\n",
       "    </tr>\n",
       "    <tr>\n",
       "      <th>2</th>\n",
       "      <td>0.497011</td>\n",
       "      <td>0.510708</td>\n",
       "      <td>0.341463</td>\n",
       "      <td>0.0</td>\n",
       "      <td>0.0</td>\n",
       "      <td>0.520833</td>\n",
       "      <td>0.0</td>\n",
       "      <td>1.0</td>\n",
       "      <td>0.247001</td>\n",
       "    </tr>\n",
       "    <tr>\n",
       "      <th>3</th>\n",
       "      <td>0.311482</td>\n",
       "      <td>0.247117</td>\n",
       "      <td>0.048780</td>\n",
       "      <td>0.0</td>\n",
       "      <td>1.0</td>\n",
       "      <td>0.333333</td>\n",
       "      <td>0.0</td>\n",
       "      <td>1.0</td>\n",
       "      <td>0.308096</td>\n",
       "    </tr>\n",
       "    <tr>\n",
       "      <th>4</th>\n",
       "      <td>0.925788</td>\n",
       "      <td>0.602965</td>\n",
       "      <td>0.568293</td>\n",
       "      <td>0.0</td>\n",
       "      <td>0.0</td>\n",
       "      <td>0.975000</td>\n",
       "      <td>0.0</td>\n",
       "      <td>1.0</td>\n",
       "      <td>0.160795</td>\n",
       "    </tr>\n",
       "    <tr>\n",
       "      <th>5</th>\n",
       "      <td>0.290868</td>\n",
       "      <td>0.210873</td>\n",
       "      <td>0.420732</td>\n",
       "      <td>1.0</td>\n",
       "      <td>0.0</td>\n",
       "      <td>0.104167</td>\n",
       "      <td>0.0</td>\n",
       "      <td>1.0</td>\n",
       "      <td>0.013868</td>\n",
       "    </tr>\n",
       "    <tr>\n",
       "      <th>6</th>\n",
       "      <td>0.105339</td>\n",
       "      <td>0.200988</td>\n",
       "      <td>0.707317</td>\n",
       "      <td>0.0</td>\n",
       "      <td>0.0</td>\n",
       "      <td>0.505833</td>\n",
       "      <td>0.0</td>\n",
       "      <td>0.0</td>\n",
       "      <td>0.077961</td>\n",
       "    </tr>\n",
       "    <tr>\n",
       "      <th>7</th>\n",
       "      <td>0.847454</td>\n",
       "      <td>0.444811</td>\n",
       "      <td>0.390244</td>\n",
       "      <td>1.0</td>\n",
       "      <td>0.0</td>\n",
       "      <td>0.354167</td>\n",
       "      <td>0.0</td>\n",
       "      <td>1.0</td>\n",
       "      <td>0.409670</td>\n",
       "    </tr>\n",
       "    <tr>\n",
       "      <th>8</th>\n",
       "      <td>0.661925</td>\n",
       "      <td>0.691928</td>\n",
       "      <td>0.536585</td>\n",
       "      <td>0.0</td>\n",
       "      <td>0.0</td>\n",
       "      <td>0.861250</td>\n",
       "      <td>0.0</td>\n",
       "      <td>1.0</td>\n",
       "      <td>0.377811</td>\n",
       "    </tr>\n",
       "    <tr>\n",
       "      <th>9</th>\n",
       "      <td>0.352711</td>\n",
       "      <td>0.543657</td>\n",
       "      <td>0.268293</td>\n",
       "      <td>0.0</td>\n",
       "      <td>0.0</td>\n",
       "      <td>0.083333</td>\n",
       "      <td>0.0</td>\n",
       "      <td>1.0</td>\n",
       "      <td>0.037481</td>\n",
       "    </tr>\n",
       "  </tbody>\n",
       "</table>\n",
       "</div>"
      ],
      "text/plain": [
       "      ssc_p     hsc_p  degree_p  workex  specialisation   etest_p  \\\n",
       "0  0.538240  0.889621  0.195122     0.0             1.0  0.104167   \n",
       "1  0.792414  0.680890  0.670244     1.0             0.0  0.760417   \n",
       "2  0.497011  0.510708  0.341463     0.0             0.0  0.520833   \n",
       "3  0.311482  0.247117  0.048780     0.0             1.0  0.333333   \n",
       "4  0.925788  0.602965  0.568293     0.0             0.0  0.975000   \n",
       "5  0.290868  0.210873  0.420732     1.0             0.0  0.104167   \n",
       "6  0.105339  0.200988  0.707317     0.0             0.0  0.505833   \n",
       "7  0.847454  0.444811  0.390244     1.0             0.0  0.354167   \n",
       "8  0.661925  0.691928  0.536585     0.0             0.0  0.861250   \n",
       "9  0.352711  0.543657  0.268293     0.0             0.0  0.083333   \n",
       "\n",
       "   degree_t_Others  gender     mba_p  \n",
       "0              0.0     1.0  0.284483  \n",
       "1              0.0     1.0  0.564843  \n",
       "2              0.0     1.0  0.247001  \n",
       "3              0.0     1.0  0.308096  \n",
       "4              0.0     1.0  0.160795  \n",
       "5              0.0     1.0  0.013868  \n",
       "6              0.0     0.0  0.077961  \n",
       "7              0.0     1.0  0.409670  \n",
       "8              0.0     1.0  0.377811  \n",
       "9              0.0     1.0  0.037481  "
      ]
     },
     "execution_count": 17,
     "metadata": {},
     "output_type": "execute_result"
    }
   ],
   "source": [
    "Data_Scaled = Data_Scaled.iloc[:,fs_indices_fscore]\n",
    "Data_Scaled.head(10)"
   ]
  },
  {
   "cell_type": "markdown",
   "metadata": {},
   "source": [
    "### Model Fitting & Tuning: <a name=\"mf\"></a>\n",
    "\n",
    "So far, the data has been prepared, scaled, encoded and the optimal features has been selected. The next step in the project is to fit the models and tune the hyperparamters to improve the model performances. But before that, the data requires to be split into training and testing data.<br>\n",
    "Hence the data is split into 80-20 split, of train and test data, respectively."
   ]
  },
  {
   "cell_type": "code",
   "execution_count": 18,
   "metadata": {},
   "outputs": [
    {
     "name": "stdout",
     "output_type": "stream",
     "text": [
      "Shape of D_train:  (171, 9)\n",
      "Shape of D_test:  (43, 9)\n",
      "Shape of t_train:  (171,)\n",
      "Shape of t_test:  (43,)\n"
     ]
    }
   ],
   "source": [
    "# DATA MODELLLING\n",
    "# TRAIN TEST SPLIT\n",
    "\n",
    "from sklearn.model_selection import train_test_split\n",
    "D_train, D_test, t_train, t_test = train_test_split(Data_Scaled, Target, test_size = 0.2, stratify=Target, shuffle=True, random_state=6)\n",
    "\n",
    "print(\"Shape of D_train: \", D_train.shape)\n",
    "print(\"Shape of D_test: \", D_test.shape)\n",
    "print(\"Shape of t_train: \", t_train.shape)\n",
    "print(\"Shape of t_test: \", t_test.shape)\n"
   ]
  },
  {
   "cell_type": "markdown",
   "metadata": {},
   "source": [
    "To begin with model fitting, the dataset is fit with the K-Nearest Neighbor (K-NN) Classifier algorithm.<br> \n",
    "\n",
    "#### K-NN Classifier\n",
    "\n",
    "The data is fit into the k-nn classifier and the score of the model is predicted the functions from sklearn library."
   ]
  },
  {
   "cell_type": "code",
   "execution_count": 19,
   "metadata": {},
   "outputs": [
    {
     "data": {
      "text/plain": [
       "0.7906976744186046"
      ]
     },
     "execution_count": 19,
     "metadata": {},
     "output_type": "execute_result"
    }
   ],
   "source": [
    "# K-NN CLASSIFIER\n",
    "\n",
    "from sklearn.neighbors import KNeighborsClassifier\n",
    "\n",
    "knn_classifier = KNeighborsClassifier()\n",
    "\n",
    "knn_classifier.fit(D_train, t_train)\n",
    "knn_classifier.score(D_test, t_test)"
   ]
  },
  {
   "cell_type": "markdown",
   "metadata": {},
   "source": [
    "The resultant score provides an initial insight on the performance of the model, which is evidently good with a score of 0.79 or 79%. <br>\n",
    "Though, the model performance has been proved to fairly good, the doubt of a \"lucky good fit\" needs to be cleared. Hence, K-Fold Validation is performed to validate the data with 5 stratified folds and repeating the process 3 times, for good measure."
   ]
  },
  {
   "cell_type": "code",
   "execution_count": 20,
   "metadata": {},
   "outputs": [],
   "source": [
    "from sklearn.model_selection import RepeatedStratifiedKFold\n",
    "\n",
    "cv_method = RepeatedStratifiedKFold(n_splits=5, \n",
    "                                    n_repeats=3)"
   ]
  },
  {
   "cell_type": "markdown",
   "metadata": {},
   "source": [
    "The output data is then utilized in the hyperparameter tuning of the K-NN model.<br> \n",
    "To perform the tuning, a dictionary consisting of the K-NN parameters, is defined. The following parameters are added to the dictionary:\n",
    "* Number of neighbors to use, ranging from 1 to 10\n",
    "* The type of distance metric. i.e; 1 (Manhattan), 2 (Euclidean) and 5 (Minkowski).\n",
    "* The type of weight function used in the prediction. i.e; uniform or distance.\n",
    "* The type of algorithm used to compute among auto, ball tree, kd-tree and brute. "
   ]
  },
  {
   "cell_type": "code",
   "execution_count": 21,
   "metadata": {},
   "outputs": [],
   "source": [
    "import numpy as np\n",
    "parameters_KNN = {'n_neighbors': [1, 2, 3, 4, 5, 6, 7, 8, 9, 10], \n",
    "              'p': [1, 2, 5],\n",
    "              'leaf_size':[1,2,3,5],\n",
    "          'weights':['uniform', 'distance'],\n",
    "          'algorithm':['auto', 'ball_tree','kd_tree','brute']\n",
    "             }"
   ]
  },
  {
   "cell_type": "markdown",
   "metadata": {},
   "source": [
    "Grid Search method is then employed to determine the optimal set of hyperparameters, as it is the most common and simple approach.<br>\n",
    "The model algorithm with the set of optimal parameters resulting from the grid search method is then fit with the train data."
   ]
  },
  {
   "cell_type": "code",
   "execution_count": 22,
   "metadata": {},
   "outputs": [],
   "source": [
    "from sklearn.model_selection import GridSearchCV\n",
    "\n",
    "GridSearch_KNN = GridSearchCV(estimator=KNeighborsClassifier(), \n",
    "                      param_grid=parameters_KNN, \n",
    "                      cv=cv_method,\n",
    "                      verbose=1,\n",
    "                      scoring='accuracy', \n",
    "                      return_train_score=True)"
   ]
  },
  {
   "cell_type": "code",
   "execution_count": 23,
   "metadata": {},
   "outputs": [
    {
     "name": "stdout",
     "output_type": "stream",
     "text": [
      "Fitting 15 folds for each of 960 candidates, totalling 14400 fits\n"
     ]
    },
    {
     "name": "stderr",
     "output_type": "stream",
     "text": [
      "[Parallel(n_jobs=1)]: Using backend SequentialBackend with 1 concurrent workers.\n",
      "[Parallel(n_jobs=1)]: Done 14400 out of 14400 | elapsed:  4.8min finished\n"
     ]
    },
    {
     "data": {
      "text/plain": [
       "GridSearchCV(cv=RepeatedStratifiedKFold(n_repeats=3, n_splits=5, random_state=None),\n",
       "             estimator=KNeighborsClassifier(),\n",
       "             param_grid={'algorithm': ['auto', 'ball_tree', 'kd_tree', 'brute'],\n",
       "                         'leaf_size': [1, 2, 3, 5],\n",
       "                         'n_neighbors': [1, 2, 3, 4, 5, 6, 7, 8, 9, 10],\n",
       "                         'p': [1, 2, 5], 'weights': ['uniform', 'distance']},\n",
       "             return_train_score=True, scoring='accuracy', verbose=1)"
      ]
     },
     "execution_count": 23,
     "metadata": {},
     "output_type": "execute_result"
    }
   ],
   "source": [
    "GridSearch_KNN.fit(D_train, t_train)"
   ]
  },
  {
   "cell_type": "markdown",
   "metadata": {},
   "source": [
    "Further, the run details for each fold during the cross-validation can be derived by computing the cross-validation results. "
   ]
  },
  {
   "cell_type": "code",
   "execution_count": 24,
   "metadata": {},
   "outputs": [
    {
     "data": {
      "text/plain": [
       "array([0.75411765, 0.75411765, 0.78722689, 0.78722689, 0.77159664,\n",
       "       0.77159664, 0.73854342, 0.75411765, 0.77165266, 0.78722689,\n",
       "       0.77154062, 0.77159664, 0.79507003, 0.79507003, 0.80868347,\n",
       "       0.81058824, 0.81439776, 0.80857143, 0.78319328, 0.81630252,\n",
       "       0.7637535 , 0.81445378, 0.78336134, 0.7929972 , 0.80459384,\n",
       "       0.80067227, 0.78319328, 0.78901961, 0.76392157, 0.76577031,\n",
       "       0.78694678, 0.81826331, 0.77731092, 0.79490196, 0.75983193,\n",
       "       0.78515406, 0.79495798, 0.79109244, 0.78913165, 0.78913165,\n",
       "       0.78123249, 0.78515406, 0.79882353, 0.81058824, 0.77154062,\n",
       "       0.79305322, 0.7637535 , 0.79501401, 0.78722689, 0.79887955,\n",
       "       0.76156863, 0.77338936, 0.77142857, 0.77142857, 0.79109244,\n",
       "       0.80672269, 0.75394958, 0.78128852, 0.7422409 , 0.77540616,\n",
       "       0.75411765, 0.75411765, 0.78722689, 0.78722689, 0.77159664,\n",
       "       0.77159664, 0.73854342, 0.75411765, 0.77165266, 0.78722689,\n",
       "       0.77154062, 0.77159664, 0.79507003, 0.79507003, 0.80868347,\n",
       "       0.81058824, 0.81439776, 0.80857143, 0.78319328, 0.81630252,\n",
       "       0.7637535 , 0.81445378, 0.78336134, 0.7929972 , 0.80459384,\n",
       "       0.80067227, 0.78319328, 0.78901961, 0.76392157, 0.76577031,\n",
       "       0.78694678, 0.81826331, 0.77731092, 0.79490196, 0.75983193,\n",
       "       0.78515406, 0.79495798, 0.79109244, 0.78913165, 0.78913165,\n",
       "       0.78123249, 0.78515406, 0.79882353, 0.81058824, 0.77154062,\n",
       "       0.79305322, 0.7637535 , 0.79501401, 0.78722689, 0.79887955,\n",
       "       0.76156863, 0.77338936, 0.77142857, 0.77142857, 0.79109244,\n",
       "       0.80672269, 0.75394958, 0.78128852, 0.7422409 , 0.77540616,\n",
       "       0.75411765, 0.75411765, 0.78722689, 0.78722689, 0.77159664,\n",
       "       0.77159664, 0.73854342, 0.75411765, 0.77165266, 0.78722689,\n",
       "       0.77154062, 0.77159664, 0.79507003, 0.79507003, 0.80868347,\n",
       "       0.81058824, 0.81439776, 0.80857143, 0.78319328, 0.81630252,\n",
       "       0.7637535 , 0.81445378, 0.78336134, 0.7929972 , 0.80459384,\n",
       "       0.80067227, 0.78319328, 0.78901961, 0.76392157, 0.76577031,\n",
       "       0.78694678, 0.81826331, 0.77731092, 0.79490196, 0.75983193,\n",
       "       0.78515406, 0.79495798, 0.79109244, 0.78913165, 0.78913165,\n",
       "       0.78123249, 0.78515406, 0.79882353, 0.81058824, 0.77154062,\n",
       "       0.79305322, 0.7637535 , 0.79501401, 0.78722689, 0.79887955,\n",
       "       0.76156863, 0.77338936, 0.77142857, 0.77142857, 0.79109244,\n",
       "       0.80672269, 0.75394958, 0.78128852, 0.7422409 , 0.77540616,\n",
       "       0.75411765, 0.75411765, 0.78722689, 0.78722689, 0.77159664,\n",
       "       0.77159664, 0.73854342, 0.75411765, 0.77165266, 0.78722689,\n",
       "       0.77154062, 0.77159664, 0.79507003, 0.79507003, 0.80868347,\n",
       "       0.81058824, 0.81439776, 0.80857143, 0.78319328, 0.81630252,\n",
       "       0.7637535 , 0.81445378, 0.78336134, 0.7929972 , 0.80459384,\n",
       "       0.80067227, 0.78319328, 0.78901961, 0.76392157, 0.76577031,\n",
       "       0.78694678, 0.81826331, 0.77731092, 0.79490196, 0.75983193,\n",
       "       0.78515406, 0.79495798, 0.79109244, 0.78913165, 0.78913165,\n",
       "       0.78123249, 0.78515406, 0.79882353, 0.81058824, 0.77154062,\n",
       "       0.79305322, 0.7637535 , 0.79501401, 0.78722689, 0.79887955,\n",
       "       0.76156863, 0.77338936, 0.77142857, 0.77142857, 0.79109244,\n",
       "       0.80672269, 0.75394958, 0.78128852, 0.7422409 , 0.77540616,\n",
       "       0.75411765, 0.75411765, 0.78722689, 0.78722689, 0.77159664,\n",
       "       0.77159664, 0.73854342, 0.75411765, 0.77165266, 0.78722689,\n",
       "       0.77154062, 0.77159664, 0.79507003, 0.79507003, 0.80868347,\n",
       "       0.81058824, 0.81439776, 0.80857143, 0.78319328, 0.81630252,\n",
       "       0.7637535 , 0.81445378, 0.78336134, 0.7929972 , 0.80459384,\n",
       "       0.80067227, 0.78319328, 0.78901961, 0.76392157, 0.76577031,\n",
       "       0.78694678, 0.81826331, 0.77731092, 0.79490196, 0.75983193,\n",
       "       0.78515406, 0.79495798, 0.79109244, 0.78913165, 0.78913165,\n",
       "       0.78123249, 0.78515406, 0.79882353, 0.81058824, 0.77154062,\n",
       "       0.79305322, 0.7637535 , 0.79501401, 0.78722689, 0.79887955,\n",
       "       0.76156863, 0.77338936, 0.77142857, 0.77142857, 0.79109244,\n",
       "       0.80672269, 0.75394958, 0.78128852, 0.7422409 , 0.77540616,\n",
       "       0.75411765, 0.75411765, 0.78722689, 0.78722689, 0.77159664,\n",
       "       0.77159664, 0.73854342, 0.75411765, 0.77165266, 0.78722689,\n",
       "       0.77154062, 0.77159664, 0.79507003, 0.79507003, 0.80868347,\n",
       "       0.81058824, 0.81439776, 0.80857143, 0.78319328, 0.81630252,\n",
       "       0.7637535 , 0.81445378, 0.78336134, 0.7929972 , 0.80459384,\n",
       "       0.80067227, 0.78319328, 0.78901961, 0.76392157, 0.76577031,\n",
       "       0.78694678, 0.81826331, 0.77731092, 0.79490196, 0.75983193,\n",
       "       0.78515406, 0.79495798, 0.79109244, 0.78913165, 0.78913165,\n",
       "       0.78123249, 0.78515406, 0.79882353, 0.81058824, 0.77154062,\n",
       "       0.79305322, 0.7637535 , 0.79501401, 0.78722689, 0.79887955,\n",
       "       0.76156863, 0.77338936, 0.77142857, 0.77142857, 0.79109244,\n",
       "       0.80672269, 0.75394958, 0.78128852, 0.7422409 , 0.77540616,\n",
       "       0.75411765, 0.75411765, 0.78722689, 0.78722689, 0.77159664,\n",
       "       0.77159664, 0.73854342, 0.75411765, 0.77165266, 0.78722689,\n",
       "       0.77154062, 0.77159664, 0.79507003, 0.79507003, 0.80868347,\n",
       "       0.81058824, 0.81439776, 0.80857143, 0.78319328, 0.81630252,\n",
       "       0.7637535 , 0.81445378, 0.78336134, 0.7929972 , 0.80459384,\n",
       "       0.80067227, 0.78319328, 0.78901961, 0.76392157, 0.76577031,\n",
       "       0.78694678, 0.81826331, 0.77731092, 0.79490196, 0.75983193,\n",
       "       0.78515406, 0.79495798, 0.79109244, 0.78913165, 0.78913165,\n",
       "       0.78123249, 0.78515406, 0.79882353, 0.81058824, 0.77154062,\n",
       "       0.79305322, 0.7637535 , 0.79501401, 0.78722689, 0.79887955,\n",
       "       0.76156863, 0.77338936, 0.77142857, 0.77142857, 0.79109244,\n",
       "       0.80672269, 0.75394958, 0.78128852, 0.7422409 , 0.77540616,\n",
       "       0.75411765, 0.75411765, 0.78722689, 0.78722689, 0.77159664,\n",
       "       0.77159664, 0.73854342, 0.75411765, 0.77165266, 0.78722689,\n",
       "       0.77154062, 0.77159664, 0.79507003, 0.79507003, 0.80868347,\n",
       "       0.81058824, 0.81439776, 0.80857143, 0.78319328, 0.81630252,\n",
       "       0.7637535 , 0.81445378, 0.78336134, 0.7929972 , 0.80459384,\n",
       "       0.80067227, 0.78319328, 0.78901961, 0.76392157, 0.76577031,\n",
       "       0.78694678, 0.81826331, 0.77731092, 0.79490196, 0.75983193,\n",
       "       0.78515406, 0.79495798, 0.79109244, 0.78913165, 0.78913165,\n",
       "       0.78123249, 0.78515406, 0.79882353, 0.81058824, 0.77154062,\n",
       "       0.79305322, 0.7637535 , 0.79501401, 0.78722689, 0.79887955,\n",
       "       0.76156863, 0.77338936, 0.77142857, 0.77142857, 0.79109244,\n",
       "       0.80672269, 0.75394958, 0.78128852, 0.7422409 , 0.77540616,\n",
       "       0.75411765, 0.75411765, 0.78722689, 0.78722689, 0.77159664,\n",
       "       0.77159664, 0.73854342, 0.75411765, 0.77165266, 0.78722689,\n",
       "       0.77154062, 0.77159664, 0.79507003, 0.79507003, 0.80868347,\n",
       "       0.81058824, 0.81439776, 0.80857143, 0.78319328, 0.81630252,\n",
       "       0.7637535 , 0.81445378, 0.78336134, 0.7929972 , 0.80459384,\n",
       "       0.80067227, 0.78319328, 0.78901961, 0.76392157, 0.76577031,\n",
       "       0.78694678, 0.81826331, 0.77731092, 0.79490196, 0.75983193,\n",
       "       0.78515406, 0.79495798, 0.79109244, 0.78913165, 0.78913165,\n",
       "       0.78123249, 0.78515406, 0.79882353, 0.81058824, 0.77154062,\n",
       "       0.79305322, 0.7637535 , 0.79501401, 0.78722689, 0.79887955,\n",
       "       0.76156863, 0.77338936, 0.77142857, 0.77142857, 0.79109244,\n",
       "       0.80672269, 0.75394958, 0.78128852, 0.7422409 , 0.77540616,\n",
       "       0.75411765, 0.75411765, 0.78722689, 0.78722689, 0.77159664,\n",
       "       0.77159664, 0.73854342, 0.75411765, 0.77165266, 0.78722689,\n",
       "       0.77154062, 0.77159664, 0.79507003, 0.79507003, 0.80868347,\n",
       "       0.81058824, 0.81439776, 0.80857143, 0.78319328, 0.81630252,\n",
       "       0.7637535 , 0.81445378, 0.78336134, 0.7929972 , 0.80459384,\n",
       "       0.80067227, 0.78319328, 0.78901961, 0.76392157, 0.76577031,\n",
       "       0.78694678, 0.81826331, 0.77731092, 0.79490196, 0.75983193,\n",
       "       0.78515406, 0.79495798, 0.79109244, 0.78913165, 0.78913165,\n",
       "       0.78123249, 0.78515406, 0.79882353, 0.81058824, 0.77154062,\n",
       "       0.79305322, 0.7637535 , 0.79501401, 0.78722689, 0.79887955,\n",
       "       0.76156863, 0.77338936, 0.77142857, 0.77142857, 0.79109244,\n",
       "       0.80672269, 0.75394958, 0.78128852, 0.7422409 , 0.77540616,\n",
       "       0.75411765, 0.75411765, 0.78722689, 0.78722689, 0.77159664,\n",
       "       0.77159664, 0.73854342, 0.75411765, 0.77165266, 0.78722689,\n",
       "       0.77154062, 0.77159664, 0.79507003, 0.79507003, 0.80868347,\n",
       "       0.81058824, 0.81439776, 0.80857143, 0.78319328, 0.81630252,\n",
       "       0.7637535 , 0.81445378, 0.78336134, 0.7929972 , 0.80459384,\n",
       "       0.80067227, 0.78319328, 0.78901961, 0.76392157, 0.76577031,\n",
       "       0.78694678, 0.81826331, 0.77731092, 0.79490196, 0.75983193,\n",
       "       0.78515406, 0.79495798, 0.79109244, 0.78913165, 0.78913165,\n",
       "       0.78123249, 0.78515406, 0.79882353, 0.81058824, 0.77154062,\n",
       "       0.79305322, 0.7637535 , 0.79501401, 0.78722689, 0.79887955,\n",
       "       0.76156863, 0.77338936, 0.77142857, 0.77142857, 0.79109244,\n",
       "       0.80672269, 0.75394958, 0.78128852, 0.7422409 , 0.77540616,\n",
       "       0.75411765, 0.75411765, 0.78722689, 0.78722689, 0.77159664,\n",
       "       0.77159664, 0.73854342, 0.75411765, 0.77165266, 0.78722689,\n",
       "       0.77154062, 0.77159664, 0.79507003, 0.79507003, 0.80868347,\n",
       "       0.81058824, 0.81439776, 0.80857143, 0.78319328, 0.81630252,\n",
       "       0.7637535 , 0.81445378, 0.78336134, 0.7929972 , 0.80459384,\n",
       "       0.80067227, 0.78319328, 0.78901961, 0.76392157, 0.76577031,\n",
       "       0.78694678, 0.81826331, 0.77731092, 0.79490196, 0.75983193,\n",
       "       0.78515406, 0.79495798, 0.79109244, 0.78913165, 0.78913165,\n",
       "       0.78123249, 0.78515406, 0.79882353, 0.81058824, 0.77154062,\n",
       "       0.79305322, 0.7637535 , 0.79501401, 0.78722689, 0.79887955,\n",
       "       0.76156863, 0.77338936, 0.77142857, 0.77142857, 0.79109244,\n",
       "       0.80672269, 0.75394958, 0.78128852, 0.7422409 , 0.77540616,\n",
       "       0.75411765, 0.75411765, 0.78722689, 0.78722689, 0.77159664,\n",
       "       0.77159664, 0.73854342, 0.75411765, 0.77165266, 0.78722689,\n",
       "       0.77154062, 0.77159664, 0.79507003, 0.79507003, 0.80868347,\n",
       "       0.81058824, 0.81439776, 0.80857143, 0.78319328, 0.81630252,\n",
       "       0.7637535 , 0.81445378, 0.78336134, 0.7929972 , 0.80459384,\n",
       "       0.80067227, 0.78319328, 0.78901961, 0.76392157, 0.76577031,\n",
       "       0.78694678, 0.81826331, 0.77731092, 0.79490196, 0.75983193,\n",
       "       0.78515406, 0.79495798, 0.79109244, 0.78913165, 0.78913165,\n",
       "       0.78123249, 0.78515406, 0.79882353, 0.81058824, 0.77154062,\n",
       "       0.79305322, 0.7637535 , 0.79501401, 0.78722689, 0.79887955,\n",
       "       0.76156863, 0.77338936, 0.77142857, 0.77142857, 0.79109244,\n",
       "       0.80672269, 0.75394958, 0.78128852, 0.7422409 , 0.77540616,\n",
       "       0.75411765, 0.75411765, 0.78722689, 0.78722689, 0.77159664,\n",
       "       0.77159664, 0.73854342, 0.75411765, 0.77165266, 0.78722689,\n",
       "       0.77154062, 0.77159664, 0.79507003, 0.79507003, 0.80868347,\n",
       "       0.81058824, 0.81439776, 0.80857143, 0.78319328, 0.81630252,\n",
       "       0.7637535 , 0.81445378, 0.78336134, 0.7929972 , 0.80459384,\n",
       "       0.80067227, 0.78319328, 0.78901961, 0.76392157, 0.76577031,\n",
       "       0.78694678, 0.81826331, 0.77731092, 0.79490196, 0.75983193,\n",
       "       0.78515406, 0.79495798, 0.79109244, 0.78913165, 0.78913165,\n",
       "       0.78123249, 0.78515406, 0.79882353, 0.81058824, 0.77154062,\n",
       "       0.79305322, 0.7637535 , 0.79501401, 0.78722689, 0.79887955,\n",
       "       0.76156863, 0.77338936, 0.77142857, 0.77142857, 0.79109244,\n",
       "       0.80672269, 0.75394958, 0.78128852, 0.7422409 , 0.77540616,\n",
       "       0.75411765, 0.75411765, 0.78722689, 0.78722689, 0.77159664,\n",
       "       0.77159664, 0.73854342, 0.75411765, 0.77165266, 0.78722689,\n",
       "       0.77154062, 0.77159664, 0.79507003, 0.79507003, 0.80868347,\n",
       "       0.81058824, 0.81439776, 0.80857143, 0.78319328, 0.81630252,\n",
       "       0.7637535 , 0.81445378, 0.78336134, 0.7929972 , 0.80459384,\n",
       "       0.80067227, 0.78319328, 0.78901961, 0.76392157, 0.76577031,\n",
       "       0.78694678, 0.81826331, 0.77731092, 0.79490196, 0.75983193,\n",
       "       0.78515406, 0.79495798, 0.79109244, 0.78913165, 0.78913165,\n",
       "       0.78123249, 0.78515406, 0.79882353, 0.81058824, 0.77154062,\n",
       "       0.79305322, 0.7637535 , 0.79501401, 0.78722689, 0.79887955,\n",
       "       0.76156863, 0.77338936, 0.77142857, 0.77142857, 0.79109244,\n",
       "       0.80672269, 0.75394958, 0.78128852, 0.7422409 , 0.77540616,\n",
       "       0.75411765, 0.75411765, 0.78722689, 0.78722689, 0.77159664,\n",
       "       0.77159664, 0.73854342, 0.75411765, 0.77165266, 0.78722689,\n",
       "       0.77154062, 0.77159664, 0.79507003, 0.79507003, 0.80868347,\n",
       "       0.81058824, 0.81439776, 0.80857143, 0.78319328, 0.81630252,\n",
       "       0.7637535 , 0.81445378, 0.78336134, 0.7929972 , 0.80459384,\n",
       "       0.80067227, 0.78319328, 0.78901961, 0.76392157, 0.76577031,\n",
       "       0.78694678, 0.81826331, 0.77731092, 0.79490196, 0.75983193,\n",
       "       0.78515406, 0.79495798, 0.79109244, 0.78913165, 0.78913165,\n",
       "       0.78123249, 0.78515406, 0.79882353, 0.81058824, 0.77154062,\n",
       "       0.79305322, 0.7637535 , 0.79501401, 0.78722689, 0.79887955,\n",
       "       0.76156863, 0.77338936, 0.77142857, 0.77142857, 0.79109244,\n",
       "       0.80672269, 0.75394958, 0.78128852, 0.7422409 , 0.77540616])"
      ]
     },
     "execution_count": 24,
     "metadata": {},
     "output_type": "execute_result"
    }
   ],
   "source": [
    "Mean_Scores_CV_KNN = GridSearch_KNN.cv_results_['mean_test_score']\n",
    "Mean_Scores_CV_KNN"
   ]
  },
  {
   "cell_type": "markdown",
   "metadata": {},
   "source": [
    "The best parameter values are obtained from the grid search. These resultant parameter values are applied to the K_NN model during model fitting and prediction."
   ]
  },
  {
   "cell_type": "code",
   "execution_count": 25,
   "metadata": {},
   "outputs": [
    {
     "data": {
      "text/plain": [
       "{'algorithm': 'auto',\n",
       " 'leaf_size': 1,\n",
       " 'n_neighbors': 6,\n",
       " 'p': 1,\n",
       " 'weights': 'distance'}"
      ]
     },
     "execution_count": 25,
     "metadata": {},
     "output_type": "execute_result"
    }
   ],
   "source": [
    "GridSearch_KNN.best_params_"
   ]
  },
  {
   "cell_type": "markdown",
   "metadata": {},
   "source": [
    "The above output provides the best parameters for the K-NN Model.<br>\n",
    "\n",
    "The cross-validation results are listed in a data frame with the types of parameters as the variables for each instance. "
   ]
  },
  {
   "cell_type": "code",
   "execution_count": 26,
   "metadata": {},
   "outputs": [
    {
     "data": {
      "text/html": [
       "<div>\n",
       "<style scoped>\n",
       "    .dataframe tbody tr th:only-of-type {\n",
       "        vertical-align: middle;\n",
       "    }\n",
       "\n",
       "    .dataframe tbody tr th {\n",
       "        vertical-align: top;\n",
       "    }\n",
       "\n",
       "    .dataframe thead th {\n",
       "        text-align: right;\n",
       "    }\n",
       "</style>\n",
       "<table border=\"1\" class=\"dataframe\">\n",
       "  <thead>\n",
       "    <tr style=\"text-align: right;\">\n",
       "      <th></th>\n",
       "      <th>algorithm</th>\n",
       "      <th>leaf_size</th>\n",
       "      <th>n_neighbors</th>\n",
       "      <th>p</th>\n",
       "      <th>weights</th>\n",
       "      <th>test_score</th>\n",
       "      <th>metric</th>\n",
       "    </tr>\n",
       "  </thead>\n",
       "  <tbody>\n",
       "    <tr>\n",
       "      <th>0</th>\n",
       "      <td>auto</td>\n",
       "      <td>1</td>\n",
       "      <td>1</td>\n",
       "      <td>1</td>\n",
       "      <td>uniform</td>\n",
       "      <td>0.754118</td>\n",
       "      <td>Manhattan</td>\n",
       "    </tr>\n",
       "    <tr>\n",
       "      <th>1</th>\n",
       "      <td>auto</td>\n",
       "      <td>1</td>\n",
       "      <td>1</td>\n",
       "      <td>1</td>\n",
       "      <td>distance</td>\n",
       "      <td>0.754118</td>\n",
       "      <td>Manhattan</td>\n",
       "    </tr>\n",
       "    <tr>\n",
       "      <th>2</th>\n",
       "      <td>auto</td>\n",
       "      <td>1</td>\n",
       "      <td>1</td>\n",
       "      <td>2</td>\n",
       "      <td>uniform</td>\n",
       "      <td>0.787227</td>\n",
       "      <td>Euclidean</td>\n",
       "    </tr>\n",
       "    <tr>\n",
       "      <th>3</th>\n",
       "      <td>auto</td>\n",
       "      <td>1</td>\n",
       "      <td>1</td>\n",
       "      <td>2</td>\n",
       "      <td>distance</td>\n",
       "      <td>0.787227</td>\n",
       "      <td>Euclidean</td>\n",
       "    </tr>\n",
       "    <tr>\n",
       "      <th>4</th>\n",
       "      <td>auto</td>\n",
       "      <td>1</td>\n",
       "      <td>1</td>\n",
       "      <td>5</td>\n",
       "      <td>uniform</td>\n",
       "      <td>0.771597</td>\n",
       "      <td>Minkowski</td>\n",
       "    </tr>\n",
       "    <tr>\n",
       "      <th>...</th>\n",
       "      <td>...</td>\n",
       "      <td>...</td>\n",
       "      <td>...</td>\n",
       "      <td>...</td>\n",
       "      <td>...</td>\n",
       "      <td>...</td>\n",
       "      <td>...</td>\n",
       "    </tr>\n",
       "    <tr>\n",
       "      <th>955</th>\n",
       "      <td>brute</td>\n",
       "      <td>5</td>\n",
       "      <td>10</td>\n",
       "      <td>1</td>\n",
       "      <td>distance</td>\n",
       "      <td>0.806723</td>\n",
       "      <td>Manhattan</td>\n",
       "    </tr>\n",
       "    <tr>\n",
       "      <th>956</th>\n",
       "      <td>brute</td>\n",
       "      <td>5</td>\n",
       "      <td>10</td>\n",
       "      <td>2</td>\n",
       "      <td>uniform</td>\n",
       "      <td>0.753950</td>\n",
       "      <td>Euclidean</td>\n",
       "    </tr>\n",
       "    <tr>\n",
       "      <th>957</th>\n",
       "      <td>brute</td>\n",
       "      <td>5</td>\n",
       "      <td>10</td>\n",
       "      <td>2</td>\n",
       "      <td>distance</td>\n",
       "      <td>0.781289</td>\n",
       "      <td>Euclidean</td>\n",
       "    </tr>\n",
       "    <tr>\n",
       "      <th>958</th>\n",
       "      <td>brute</td>\n",
       "      <td>5</td>\n",
       "      <td>10</td>\n",
       "      <td>5</td>\n",
       "      <td>uniform</td>\n",
       "      <td>0.742241</td>\n",
       "      <td>Minkowski</td>\n",
       "    </tr>\n",
       "    <tr>\n",
       "      <th>959</th>\n",
       "      <td>brute</td>\n",
       "      <td>5</td>\n",
       "      <td>10</td>\n",
       "      <td>5</td>\n",
       "      <td>distance</td>\n",
       "      <td>0.775406</td>\n",
       "      <td>Minkowski</td>\n",
       "    </tr>\n",
       "  </tbody>\n",
       "</table>\n",
       "<p>960 rows × 7 columns</p>\n",
       "</div>"
      ],
      "text/plain": [
       "    algorithm  leaf_size  n_neighbors  p   weights  test_score     metric\n",
       "0        auto          1            1  1   uniform    0.754118  Manhattan\n",
       "1        auto          1            1  1  distance    0.754118  Manhattan\n",
       "2        auto          1            1  2   uniform    0.787227  Euclidean\n",
       "3        auto          1            1  2  distance    0.787227  Euclidean\n",
       "4        auto          1            1  5   uniform    0.771597  Minkowski\n",
       "..        ...        ...          ... ..       ...         ...        ...\n",
       "955     brute          5           10  1  distance    0.806723  Manhattan\n",
       "956     brute          5           10  2   uniform    0.753950  Euclidean\n",
       "957     brute          5           10  2  distance    0.781289  Euclidean\n",
       "958     brute          5           10  5   uniform    0.742241  Minkowski\n",
       "959     brute          5           10  5  distance    0.775406  Minkowski\n",
       "\n",
       "[960 rows x 7 columns]"
      ]
     },
     "execution_count": 26,
     "metadata": {},
     "output_type": "execute_result"
    }
   ],
   "source": [
    "results_KNN = pd.DataFrame(GridSearch_KNN.cv_results_['params'])\n",
    "results_KNN['test_score'] = GridSearch_KNN.cv_results_['mean_test_score']\n",
    "results_KNN['metric']=results_KNN['p'].replace([1,2,5],[\"Manhattan\",\"Euclidean\",\"Minkowski\"])\n",
    "results_KNN"
   ]
  },
  {
   "cell_type": "markdown",
   "metadata": {},
   "source": [
    "To visualize the performances of the distance metric, the mean cross-validation score is plotted against the number of neighbors. "
   ]
  },
  {
   "cell_type": "code",
   "execution_count": 27,
   "metadata": {},
   "outputs": [
    {
     "data": {
      "image/png": "[encoded data removed]",
      "text/plain": [
       "<Figure size 432x288 with 1 Axes>"
      ]
     },
     "metadata": {
      "image/png": {
       "height": 281,
       "width": 394
      }
     },
     "output_type": "display_data"
    }
   ],
   "source": [
    "import matplotlib.pyplot as plt\n",
    "%matplotlib inline \n",
    "%config InlineBackend.figure_format = 'retina'\n",
    "plt.style.use(\"ggplot\")\n",
    "\n",
    "for i in [\"Manhattan\", \"Euclidean\", \"Minkowski\"]:\n",
    "    temp = results_KNN[results_KNN['metric'] == i]\n",
    "    plt.plot(temp['n_neighbors'], temp['test_score'], marker = '.', label = i)\n",
    "    \n",
    "plt.legend()\n",
    "plt.xlabel('Number of Neighbors')\n",
    "plt.ylabel(\"Mean CV Score\")\n",
    "plt.title(\"KNN Performance Comparison\")\n",
    "plt.show()"
   ]
  },
  {
   "cell_type": "markdown",
   "metadata": {},
   "source": [
    "The model once fitted, is required to be evaluated. The Receiver Operating Characteristic (ROC) Curve is plotted to calculate the trade-off between sensitivity (True Positive Rate) and specificity (False Positive Rate) of the model. <br>\n",
    "Before plotting the ROC curve, the prediction scores are calculated. The resultant output is expected to carry values ranging between 0 and 1. "
   ]
  },
  {
   "cell_type": "code",
   "execution_count": 28,
   "metadata": {},
   "outputs": [
    {
     "data": {
      "text/plain": [
       "array([[0.        , 1.        ],\n",
       "       [0.1110703 , 0.8889297 ],\n",
       "       [0.32856062, 0.67143938],\n",
       "       [0.        , 1.        ],\n",
       "       [0.60447038, 0.39552962],\n",
       "       [0.        , 1.        ],\n",
       "       [0.        , 1.        ],\n",
       "       [0.        , 1.        ],\n",
       "       [0.68301045, 0.31698955],\n",
       "       [0.67525964, 0.32474036]])"
      ]
     },
     "execution_count": 28,
     "metadata": {},
     "output_type": "execute_result"
    }
   ],
   "source": [
    "t_prob1 = GridSearch_KNN.predict_proba(D_test)\n",
    "t_prob1[0:10]"
   ]
  },
  {
   "cell_type": "markdown",
   "metadata": {},
   "source": [
    "Next, the True Positive Rate (TPR) and False Positive Rate (FPR) are calculated before calculating the Area Under the Curve (AUC) which provides the aggregate measure of performance in all classification thresholds."
   ]
  },
  {
   "cell_type": "code",
   "execution_count": 29,
   "metadata": {},
   "outputs": [
    {
     "data": {
      "text/plain": [
       "0.8153846153846154"
      ]
     },
     "execution_count": 29,
     "metadata": {},
     "output_type": "execute_result"
    }
   ],
   "source": [
    "fpr, tpr, _ = metrics.roc_curve(t_test, t_prob1[:, 1])\n",
    "roc_auc = metrics.auc(fpr, tpr)\n",
    "roc_auc"
   ]
  },
  {
   "cell_type": "markdown",
   "metadata": {},
   "source": [
    "The AUC is calculated to be 0.82 or 82% of the predictions are correct which implies that the model has performed really well.<br>\n",
    "To get a better perspective the FPR and TPR values are listed in a data frame. "
   ]
  },
  {
   "cell_type": "code",
   "execution_count": 30,
   "metadata": {},
   "outputs": [
    {
     "data": {
      "text/html": [
       "<div>\n",
       "<style scoped>\n",
       "    .dataframe tbody tr th:only-of-type {\n",
       "        vertical-align: middle;\n",
       "    }\n",
       "\n",
       "    .dataframe tbody tr th {\n",
       "        vertical-align: top;\n",
       "    }\n",
       "\n",
       "    .dataframe thead th {\n",
       "        text-align: right;\n",
       "    }\n",
       "</style>\n",
       "<table border=\"1\" class=\"dataframe\">\n",
       "  <thead>\n",
       "    <tr style=\"text-align: right;\">\n",
       "      <th></th>\n",
       "      <th>fpr</th>\n",
       "      <th>tpr</th>\n",
       "    </tr>\n",
       "  </thead>\n",
       "  <tbody>\n",
       "    <tr>\n",
       "      <th>0</th>\n",
       "      <td>0.000000</td>\n",
       "      <td>0.000000</td>\n",
       "    </tr>\n",
       "    <tr>\n",
       "      <th>1</th>\n",
       "      <td>0.230769</td>\n",
       "      <td>0.600000</td>\n",
       "    </tr>\n",
       "    <tr>\n",
       "      <th>2</th>\n",
       "      <td>0.230769</td>\n",
       "      <td>0.800000</td>\n",
       "    </tr>\n",
       "    <tr>\n",
       "      <th>3</th>\n",
       "      <td>0.307692</td>\n",
       "      <td>0.800000</td>\n",
       "    </tr>\n",
       "    <tr>\n",
       "      <th>4</th>\n",
       "      <td>0.307692</td>\n",
       "      <td>0.933333</td>\n",
       "    </tr>\n",
       "    <tr>\n",
       "      <th>5</th>\n",
       "      <td>0.384615</td>\n",
       "      <td>0.933333</td>\n",
       "    </tr>\n",
       "    <tr>\n",
       "      <th>6</th>\n",
       "      <td>0.384615</td>\n",
       "      <td>0.966667</td>\n",
       "    </tr>\n",
       "    <tr>\n",
       "      <th>7</th>\n",
       "      <td>0.461538</td>\n",
       "      <td>0.966667</td>\n",
       "    </tr>\n",
       "    <tr>\n",
       "      <th>8</th>\n",
       "      <td>0.461538</td>\n",
       "      <td>1.000000</td>\n",
       "    </tr>\n",
       "    <tr>\n",
       "      <th>9</th>\n",
       "      <td>1.000000</td>\n",
       "      <td>1.000000</td>\n",
       "    </tr>\n",
       "  </tbody>\n",
       "</table>\n",
       "</div>"
      ],
      "text/plain": [
       "        fpr       tpr\n",
       "0  0.000000  0.000000\n",
       "1  0.230769  0.600000\n",
       "2  0.230769  0.800000\n",
       "3  0.307692  0.800000\n",
       "4  0.307692  0.933333\n",
       "5  0.384615  0.933333\n",
       "6  0.384615  0.966667\n",
       "7  0.461538  0.966667\n",
       "8  0.461538  1.000000\n",
       "9  1.000000  1.000000"
      ]
     },
     "execution_count": 30,
     "metadata": {},
     "output_type": "execute_result"
    }
   ],
   "source": [
    "df = pd.DataFrame({'fpr': fpr, 'tpr': tpr})\n",
    "df"
   ]
  },
  {
   "cell_type": "markdown",
   "metadata": {},
   "source": [
    "To visualize the ROC curve, the FPR and TPR values are plotted against each other and the corresponding values of random classifier is plotted as a diagonal line. "
   ]
  },
  {
   "cell_type": "code",
   "execution_count": 31,
   "metadata": {},
   "outputs": [
    {
     "data": {
      "image/png": "[encoded data removed]",
      "text/plain": [
       "<Figure size 432x288 with 1 Axes>"
      ]
     },
     "metadata": {
      "image/png": {
       "height": 281,
       "width": 388
      }
     },
     "output_type": "display_data"
    }
   ],
   "source": [
    "import matplotlib.pyplot as plt\n",
    "%matplotlib inline \n",
    "%config InlineBackend.figure_format = 'retina'\n",
    "plt.style.use(\"ggplot\")\n",
    "    \n",
    "ax = df.plot.line(x='fpr', y='tpr', title='ROC Curve', legend=False, marker = '.')\n",
    "plt.plot([0, 1], [0, 1], '--')\n",
    "ax.set_xlabel(\"False Postive Rate (FPR)\")\n",
    "ax.set_ylabel(\"True Positive Rate (TPR)\")\n",
    "plt.show();"
   ]
  },
  {
   "cell_type": "markdown",
   "metadata": {},
   "source": [
    "As it can be seen from the ROC curve plot above, the curve has an irregular elbow over a range of FNR (0.2 to 0.5). While it may be an unideal curve the TPR could be seen increasing significantly through the curvature hence, proving the optimized K-NN model to highly performing in terms of prediction.<br>\n",
    "\n",
    "And finally, to predict and determine the performance metrics of the K-NN Classifier model, the test data is utilized to produce prediction and a confusion matrix is plotted to display the results."
   ]
  },
  {
   "cell_type": "code",
   "execution_count": 32,
   "metadata": {},
   "outputs": [],
   "source": [
    "t_pred1 = GridSearch_KNN.predict(D_test)"
   ]
  },
  {
   "cell_type": "code",
   "execution_count": 33,
   "metadata": {},
   "outputs": [
    {
     "name": "stdout",
     "output_type": "stream",
     "text": [
      "            y_pred_No  y_pred_Yes\n",
      "y_test_No           8           5\n",
      "y_test_Yes          1          29\n"
     ]
    }
   ],
   "source": [
    "from sklearn.metrics import confusion_matrix\n",
    "cm = pd.DataFrame(confusion_matrix(t_test, t_pred1))\n",
    "cm.columns = ['y_pred_No', 'y_pred_Yes']\n",
    "cm.index = ['y_test_No','y_test_Yes']\n",
    "print(cm)"
   ]
  },
  {
   "cell_type": "markdown",
   "metadata": {},
   "source": [
    "As we can see from the above confusion matrix, the K-NN model has predicted 5 Falsely Positive Values while predicting just 1 Falsely Negative Value. It has correctly predicted the 8 true negatives and 29 true positives."
   ]
  },
  {
   "cell_type": "markdown",
   "metadata": {},
   "source": [
    "The model is then evaluated using classification report to obtain the performance metrics. "
   ]
  },
  {
   "cell_type": "code",
   "execution_count": 34,
   "metadata": {},
   "outputs": [
    {
     "name": "stdout",
     "output_type": "stream",
     "text": [
      "              precision    recall  f1-score   support\n",
      "\n",
      "           0       0.89      0.62      0.73        13\n",
      "           1       0.85      0.97      0.91        30\n",
      "\n",
      "    accuracy                           0.86        43\n",
      "   macro avg       0.87      0.79      0.82        43\n",
      "weighted avg       0.86      0.86      0.85        43\n",
      "\n"
     ]
    }
   ],
   "source": [
    "from sklearn import metrics\n",
    "from sklearn.metrics import classification_report\n",
    "print(classification_report(t_test,t_pred1))"
   ]
  },
  {
   "cell_type": "markdown",
   "metadata": {},
   "source": [
    "As we can see from the output above, it is evident from the metrics such as accuracy, 0.86 or 86%; that the positive class (placed) is predicted accurately as the recall score is 0.97 or 97%.Hence, the model has high predictive performance.<br>\n",
    "\n",
    "The model fitting & fine tuning process for the other three models follows the same procedure. Hence, the performance analysis would be discussed in detail for the following models.<br>  \n",
    "\n",
    "\n",
    "### Decision Tree Classifier\n",
    "\n",
    "The next model to fit and evaluate is Decision Tree Classifier, DTC. To begin, the decision tree classifier algorithm is imported from the sklearn library.\n",
    "\n",
    "To perform hyperparameter tuning, a dictionary consisting of the DTC parameters, is defined. The following parameters are added to the dictionary:\n",
    "* The type of criteria to measure the quality of the split. i.e; gini, entropy.\n",
    "* The maximum depth of the tree, ranging from 1 to 8. \n",
    "* The minimum number of samples required to split an internal node. i.e; 2,3.\n",
    "* The maximum number of features to consider. i.e; sqrt, auto and log2.\n",
    "* The minimum number of samples per leaf ranging from 1 to 11.<br>\n",
    "\n",
    "A grid search is performed to the cross-validated data training data.\n"
   ]
  },
  {
   "cell_type": "code",
   "execution_count": 35,
   "metadata": {},
   "outputs": [
    {
     "name": "stdout",
     "output_type": "stream",
     "text": [
      "Fitting 15 folds for each of 1056 candidates, totalling 15840 fits\n"
     ]
    },
    {
     "name": "stderr",
     "output_type": "stream",
     "text": [
      "[Parallel(n_jobs=1)]: Using backend SequentialBackend with 1 concurrent workers.\n",
      "[Parallel(n_jobs=1)]: Done 15840 out of 15840 | elapsed:  2.0min finished\n"
     ]
    }
   ],
   "source": [
    "# DECISION TREE CLASSIFIER\n",
    "\n",
    "from sklearn.tree import DecisionTreeClassifier\n",
    "\n",
    "parameters_DTree = {'criterion': ['gini', 'entropy'],\n",
    "             'max_depth': [1, 2, 3, 4, 5, 6, 7, 8],\n",
    "             'min_samples_split': [2, 3],\n",
    "            'max_features': ['sqrt', 'auto', 'log2'],\n",
    "            'min_samples_leaf':[1,2,3,4,5,6,7,8,9,10,11]}\n",
    "\n",
    "gs_DTree = GridSearchCV(estimator=DecisionTreeClassifier(), \n",
    "                     param_grid=parameters_DTree, \n",
    "                     cv=cv_method,\n",
    "                     verbose=1, \n",
    "                     scoring='accuracy')\n",
    "\n",
    "gs_DTree.fit(D_train, t_train);"
   ]
  },
  {
   "cell_type": "code",
   "execution_count": 36,
   "metadata": {
    "scrolled": true
   },
   "outputs": [
    {
     "data": {
      "text/plain": [
       "{'criterion': 'entropy',\n",
       " 'max_depth': 8,\n",
       " 'max_features': 'sqrt',\n",
       " 'min_samples_leaf': 2,\n",
       " 'min_samples_split': 3}"
      ]
     },
     "execution_count": 36,
     "metadata": {},
     "output_type": "execute_result"
    }
   ],
   "source": [
    "gs_DTree.best_params_"
   ]
  },
  {
   "cell_type": "markdown",
   "metadata": {},
   "source": [
    "The set of optimal hyperparameters for the Decision Tree Classifier is as shown in the above output.\n",
    "\n",
    "The mean scores are calculated as follows,"
   ]
  },
  {
   "cell_type": "code",
   "execution_count": 37,
   "metadata": {},
   "outputs": [
    {
     "data": {
      "text/plain": [
       "array([0.76834734, 0.76823529, 0.76044818, ..., 0.80515406, 0.7562465 ,\n",
       "       0.76414566])"
      ]
     },
     "execution_count": 37,
     "metadata": {},
     "output_type": "execute_result"
    }
   ],
   "source": [
    "Mean_Scores_CV_DTree = gs_DTree.cv_results_['mean_test_score']\n",
    "Mean_Scores_CV_DTree"
   ]
  },
  {
   "cell_type": "markdown",
   "metadata": {},
   "source": [
    "The performance of types of criterion is compared and visualized. "
   ]
  },
  {
   "cell_type": "code",
   "execution_count": 38,
   "metadata": {},
   "outputs": [
    {
     "data": {
      "text/plain": [
       "Index(['criterion', 'max_depth', 'max_features', 'min_samples_leaf',\n",
       "       'min_samples_split', 'test_score'],\n",
       "      dtype='object')"
      ]
     },
     "execution_count": 38,
     "metadata": {},
     "output_type": "execute_result"
    }
   ],
   "source": [
    "results_DT = pd.DataFrame(gs_DTree.cv_results_['params'])\n",
    "results_DT['test_score'] = gs_DTree.cv_results_['mean_test_score']\n",
    "results_DT.columns"
   ]
  },
  {
   "cell_type": "code",
   "execution_count": 39,
   "metadata": {},
   "outputs": [
    {
     "data": {
      "image/png": "[encoded data removed]",
      "text/plain": [
       "<Figure size 432x288 with 1 Axes>"
      ]
     },
     "metadata": {
      "image/png": {
       "height": 281,
       "width": 400
      }
     },
     "output_type": "display_data"
    }
   ],
   "source": [
    "for i in ['gini', 'entropy']:\n",
    "    temp = results_DT[results_DT['criterion'] == i]\n",
    "    temp_average = temp.groupby('max_depth').agg({'test_score': 'mean'})\n",
    "    plt.plot(temp_average, marker = '.', label = i)\n",
    "    \n",
    "    \n",
    "plt.legend()\n",
    "plt.xlabel('Max Depth')\n",
    "plt.ylabel(\"Mean CV Score\")\n",
    "plt.title(\"DT Performance Comparison\")\n",
    "plt.show()"
   ]
  },
  {
   "cell_type": "markdown",
   "metadata": {},
   "source": [
    "It is quiet evident from the above graph that best split criterion is entropy with a maximum depth of 8."
   ]
  },
  {
   "cell_type": "code",
   "execution_count": 40,
   "metadata": {},
   "outputs": [
    {
     "data": {
      "text/plain": [
       "array([[0.        , 1.        ],\n",
       "       [0.4       , 0.6       ],\n",
       "       [0.        , 1.        ],\n",
       "       [0.5       , 0.5       ],\n",
       "       [0.76923077, 0.23076923],\n",
       "       [0.        , 1.        ],\n",
       "       [0.        , 1.        ],\n",
       "       [0.        , 1.        ],\n",
       "       [1.        , 0.        ],\n",
       "       [1.        , 0.        ]])"
      ]
     },
     "execution_count": 40,
     "metadata": {},
     "output_type": "execute_result"
    }
   ],
   "source": [
    "t_prob2 = gs_DTree.predict_proba(D_test)\n",
    "t_prob2[0:10]"
   ]
  },
  {
   "cell_type": "code",
   "execution_count": 41,
   "metadata": {},
   "outputs": [
    {
     "data": {
      "text/plain": [
       "0.7628205128205128"
      ]
     },
     "execution_count": 41,
     "metadata": {},
     "output_type": "execute_result"
    }
   ],
   "source": [
    "fpr, tpr, _ = metrics.roc_curve(t_test, t_prob2[:, 1])\n",
    "roc_auc = metrics.auc(fpr, tpr)\n",
    "roc_auc"
   ]
  },
  {
   "cell_type": "markdown",
   "metadata": {},
   "source": [
    "From the above output, it is safe to say that the model prediction are good, but not the best as the AUC score turns out to be 0.76 or 76% of the predictions are correct."
   ]
  },
  {
   "cell_type": "code",
   "execution_count": 42,
   "metadata": {},
   "outputs": [
    {
     "data": {
      "image/png": "[encoded data removed]",
      "text/plain": [
       "<Figure size 432x288 with 1 Axes>"
      ]
     },
     "metadata": {
      "image/png": {
       "height": 281,
       "width": 388
      }
     },
     "output_type": "display_data"
    }
   ],
   "source": [
    "df = pd.DataFrame({'fpr': fpr, 'tpr': tpr})\n",
    "df\n",
    "\n",
    "import matplotlib.pyplot as plt\n",
    "%matplotlib inline \n",
    "%config InlineBackend.figure_format = 'retina'\n",
    "plt.style.use(\"ggplot\")\n",
    "    \n",
    "ax = df.plot.line(x='fpr', y='tpr', title='ROC Curve', legend=False, marker = '.')\n",
    "plt.plot([0, 1], [0, 1], '--')\n",
    "ax.set_xlabel(\"False Postive Rate (FPR)\")\n",
    "ax.set_ylabel(\"True Positive Rate (TPR)\")\n",
    "plt.show();"
   ]
  },
  {
   "cell_type": "markdown",
   "metadata": {},
   "source": [
    "The above graph proves our assumptions to be true as the area under the curve is smaller than that of the K-NN model. "
   ]
  },
  {
   "cell_type": "code",
   "execution_count": 43,
   "metadata": {},
   "outputs": [],
   "source": [
    "t_pred2 = gs_DTree.predict(D_test)"
   ]
  },
  {
   "cell_type": "code",
   "execution_count": 44,
   "metadata": {},
   "outputs": [
    {
     "name": "stdout",
     "output_type": "stream",
     "text": [
      "            y_pred_No  y_pred_Yes\n",
      "y_test_No           8           5\n",
      "y_test_Yes          2          28\n"
     ]
    }
   ],
   "source": [
    "from sklearn.metrics import confusion_matrix\n",
    "cm = pd.DataFrame(confusion_matrix(t_test, t_pred2))\n",
    "cm.columns = ['y_pred_No', 'y_pred_Yes']\n",
    "cm.index = ['y_test_No','y_test_Yes']\n",
    "print(cm)"
   ]
  },
  {
   "cell_type": "markdown",
   "metadata": {},
   "source": [
    "From the above confusion matrix, the DT model has predicted 5 FP values while predicting 2 FN values. "
   ]
  },
  {
   "cell_type": "code",
   "execution_count": 45,
   "metadata": {},
   "outputs": [
    {
     "name": "stdout",
     "output_type": "stream",
     "text": [
      "              precision    recall  f1-score   support\n",
      "\n",
      "           0       0.80      0.62      0.70        13\n",
      "           1       0.85      0.93      0.89        30\n",
      "\n",
      "    accuracy                           0.84        43\n",
      "   macro avg       0.82      0.77      0.79        43\n",
      "weighted avg       0.83      0.84      0.83        43\n",
      "\n"
     ]
    }
   ],
   "source": [
    "from sklearn import metrics\n",
    "from sklearn.metrics import classification_report\n",
    "print(classification_report(t_test,t_pred2))"
   ]
  },
  {
   "cell_type": "markdown",
   "metadata": {},
   "source": [
    "As we can see from the output above,though the model accuracy is 0.84 or 84%; the positive class (placed) is predicted less accurately as the recall score is 0.79 or 79%.Hence, the model has high predictive performance but not higher than K-NN model."
   ]
  },
  {
   "cell_type": "markdown",
   "metadata": {},
   "source": [
    "### Naive Bayes Classifier\n",
    "\n",
    "The next model to try is the Naive Bayes Classifier. To proceed with that, the GaussianNB and PowerTransformer functions are imported from sklearn library.\n",
    "\n",
    "Furthermore, grid search is performed with the use of the dictionary created with the parameters of NB model. Further, power transformation is performed to center the distribution of values. "
   ]
  },
  {
   "cell_type": "code",
   "execution_count": 46,
   "metadata": {},
   "outputs": [
    {
     "name": "stdout",
     "output_type": "stream",
     "text": [
      "Fitting 15 folds for each of 100 candidates, totalling 1500 fits\n"
     ]
    },
    {
     "name": "stderr",
     "output_type": "stream",
     "text": [
      "[Parallel(n_jobs=1)]: Using backend SequentialBackend with 1 concurrent workers.\n",
      "[Parallel(n_jobs=1)]: Done 1500 out of 1500 | elapsed:    5.6s finished\n"
     ]
    }
   ],
   "source": [
    "# NAIVE BAYES CLASSIFIER\n",
    "from sklearn.naive_bayes import GaussianNB\n",
    "\n",
    "from sklearn.preprocessing import PowerTransformer\n",
    "\n",
    "\n",
    "parameters_NB = {'var_smoothing': np.logspace(0,-9, num=100)}\n",
    "\n",
    "gs_NB = GridSearchCV(estimator=GaussianNB(), \n",
    "                     param_grid=parameters_NB, \n",
    "                     cv=cv_method,\n",
    "                     verbose=1, \n",
    "                     scoring='accuracy')\n",
    "\n",
    "Data_transformed = PowerTransformer().fit_transform(D_train)\n",
    "Data_transformed_test = PowerTransformer().fit_transform(D_test)\n",
    "\n",
    "gs_NB.fit(Data_transformed, t_train);\n",
    "# from sklearn.naive_bayes import GaussianNB\n",
    "\n",
    "# nb_classifier = GaussianNB(var_smoothing=10**(-3))\n",
    "# NB_Model = nb_classifier.fit(D_train, t_train)\n",
    "# nb_classifier.score(D_test, t_test)"
   ]
  },
  {
   "cell_type": "code",
   "execution_count": 47,
   "metadata": {},
   "outputs": [
    {
     "data": {
      "text/plain": [
       "{'var_smoothing': 0.43287612810830584}"
      ]
     },
     "execution_count": 47,
     "metadata": {},
     "output_type": "execute_result"
    }
   ],
   "source": [
    "gs_NB.best_params_"
   ]
  },
  {
   "cell_type": "markdown",
   "metadata": {},
   "source": [
    "The above output suggests that the best value of variance smoothing is 0.43."
   ]
  },
  {
   "cell_type": "code",
   "execution_count": 48,
   "metadata": {},
   "outputs": [
    {
     "data": {
      "text/plain": [
       "array([0.82039216, 0.81456583, 0.81266106, 0.81848739, 0.82240896,\n",
       "       0.82235294, 0.82235294, 0.82235294, 0.82235294, 0.82235294,\n",
       "       0.82039216, 0.82039216, 0.82039216, 0.81652661, 0.81652661,\n",
       "       0.81652661, 0.81848739, 0.81848739, 0.81848739, 0.81848739,\n",
       "       0.81848739, 0.81848739, 0.81848739, 0.81848739, 0.81848739,\n",
       "       0.81652661, 0.81652661, 0.81652661, 0.81652661, 0.81652661,\n",
       "       0.81652661, 0.81652661, 0.81652661, 0.81652661, 0.81652661,\n",
       "       0.81652661, 0.81652661, 0.81652661, 0.81652661, 0.81652661,\n",
       "       0.81652661, 0.81652661, 0.81652661, 0.81652661, 0.81652661,\n",
       "       0.81652661, 0.81652661, 0.81652661, 0.81652661, 0.81652661,\n",
       "       0.81652661, 0.81652661, 0.81652661, 0.81652661, 0.81652661,\n",
       "       0.81652661, 0.81652661, 0.81652661, 0.81652661, 0.81652661,\n",
       "       0.81652661, 0.81652661, 0.81652661, 0.81652661, 0.81652661,\n",
       "       0.81652661, 0.81652661, 0.81652661, 0.81652661, 0.81652661,\n",
       "       0.81652661, 0.81652661, 0.81652661, 0.81652661, 0.81652661,\n",
       "       0.81652661, 0.81652661, 0.81652661, 0.81652661, 0.81652661,\n",
       "       0.81652661, 0.81652661, 0.81652661, 0.81652661, 0.81652661,\n",
       "       0.81652661, 0.81652661, 0.81652661, 0.81652661, 0.81652661,\n",
       "       0.81652661, 0.81652661, 0.81652661, 0.81652661, 0.81652661,\n",
       "       0.81652661, 0.81652661, 0.81652661, 0.81652661, 0.81652661])"
      ]
     },
     "execution_count": 48,
     "metadata": {},
     "output_type": "execute_result"
    }
   ],
   "source": [
    "Mean_Scores_CV_NB = gs_NB.cv_results_['mean_test_score']\n",
    "Mean_Scores_CV_NB"
   ]
  },
  {
   "cell_type": "code",
   "execution_count": 49,
   "metadata": {},
   "outputs": [],
   "source": [
    "results_NB = pd.DataFrame(gs_NB.cv_results_['params'])\n",
    "results_NB['test_score'] = gs_NB.cv_results_['mean_test_score']"
   ]
  },
  {
   "cell_type": "code",
   "execution_count": 50,
   "metadata": {},
   "outputs": [
    {
     "data": {
      "image/png": "[encoded data removed]",
      "text/plain": [
       "<Figure size 432x288 with 1 Axes>"
      ]
     },
     "metadata": {
      "image/png": {
       "height": 281,
       "width": 400
      }
     },
     "output_type": "display_data"
    }
   ],
   "source": [
    "plt.plot(results_NB['var_smoothing'], results_NB['test_score'], marker = '.')    \n",
    "plt.xlabel('Var. Smoothing')\n",
    "plt.ylabel(\"Mean CV Score\")\n",
    "plt.title(\"NB Performance Comparison\")\n",
    "plt.show()"
   ]
  },
  {
   "cell_type": "markdown",
   "metadata": {},
   "source": [
    "The output graph proves our prior assumption for the variance smoothing value to be true. "
   ]
  },
  {
   "cell_type": "code",
   "execution_count": 51,
   "metadata": {},
   "outputs": [
    {
     "data": {
      "text/plain": [
       "array([[0.0491636 , 0.9508364 ],\n",
       "       [0.63351086, 0.36648914],\n",
       "       [0.12467717, 0.87532283],\n",
       "       [0.00644402, 0.99355598],\n",
       "       [0.86929528, 0.13070472],\n",
       "       [0.18071006, 0.81928994],\n",
       "       [0.00134168, 0.99865832],\n",
       "       [0.01790974, 0.98209026],\n",
       "       [0.97822955, 0.02177045],\n",
       "       [0.96333392, 0.03666608]])"
      ]
     },
     "execution_count": 51,
     "metadata": {},
     "output_type": "execute_result"
    }
   ],
   "source": [
    "t_prob3 = gs_NB.predict_proba(Data_transformed_test)\n",
    "t_prob3[0:10]"
   ]
  },
  {
   "cell_type": "code",
   "execution_count": 52,
   "metadata": {},
   "outputs": [
    {
     "data": {
      "text/plain": [
       "0.8794871794871795"
      ]
     },
     "execution_count": 52,
     "metadata": {},
     "output_type": "execute_result"
    }
   ],
   "source": [
    "fpr, tpr, _ = metrics.roc_curve(t_test, t_prob3[:, 1])\n",
    "roc_auc = metrics.auc(fpr, tpr)\n",
    "roc_auc"
   ]
  },
  {
   "cell_type": "markdown",
   "metadata": {},
   "source": [
    "The AUC score is calculated to be 0.88 or 88% of the predictions made by the model is correct.\n"
   ]
  },
  {
   "cell_type": "code",
   "execution_count": 53,
   "metadata": {},
   "outputs": [
    {
     "data": {
      "image/png": "[encoded data removed]",
      "text/plain": [
       "<Figure size 432x288 with 1 Axes>"
      ]
     },
     "metadata": {
      "image/png": {
       "height": 281,
       "width": 388
      }
     },
     "output_type": "display_data"
    }
   ],
   "source": [
    "df = pd.DataFrame({'fpr': fpr, 'tpr': tpr})\n",
    "df\n",
    "\n",
    "import matplotlib.pyplot as plt\n",
    "%matplotlib inline \n",
    "%config InlineBackend.figure_format = 'retina'\n",
    "plt.style.use(\"ggplot\")\n",
    "    \n",
    "ax = df.plot.line(x='fpr', y='tpr', title='ROC Curve', legend=False, marker = '.')\n",
    "plt.plot([0, 1], [0, 1], '--')\n",
    "ax.set_xlabel(\"False Postive Rate (FPR)\")\n",
    "ax.set_ylabel(\"True Positive Rate (TPR)\")\n",
    "plt.show();"
   ]
  },
  {
   "cell_type": "markdown",
   "metadata": {},
   "source": [
    "The ROC curve backs up the value of AUC score, as seen in the above graph."
   ]
  },
  {
   "cell_type": "code",
   "execution_count": 54,
   "metadata": {},
   "outputs": [],
   "source": [
    "t_pred3 = gs_NB.predict(Data_transformed_test)"
   ]
  },
  {
   "cell_type": "code",
   "execution_count": 55,
   "metadata": {},
   "outputs": [
    {
     "name": "stdout",
     "output_type": "stream",
     "text": [
      "            y_pred_No  y_pred_Yes\n",
      "y_test_No           9           4\n",
      "y_test_Yes          5          25\n"
     ]
    }
   ],
   "source": [
    "from sklearn.metrics import confusion_matrix\n",
    "cm = pd.DataFrame(confusion_matrix(t_test, t_pred3))\n",
    "cm.columns = ['y_pred_No', 'y_pred_Yes']\n",
    "cm.index = ['y_test_No','y_test_Yes']\n",
    "print(cm)"
   ]
  },
  {
   "cell_type": "markdown",
   "metadata": {},
   "source": [
    "From the confusion matrix above, the model has predicted 4 FP values while there are 5 FN values predicted. It has correctly predicted 9 True Negative and 25 True positive values."
   ]
  },
  {
   "cell_type": "code",
   "execution_count": 56,
   "metadata": {},
   "outputs": [
    {
     "name": "stdout",
     "output_type": "stream",
     "text": [
      "              precision    recall  f1-score   support\n",
      "\n",
      "           0       0.64      0.69      0.67        13\n",
      "           1       0.86      0.83      0.85        30\n",
      "\n",
      "    accuracy                           0.79        43\n",
      "   macro avg       0.75      0.76      0.76        43\n",
      "weighted avg       0.80      0.79      0.79        43\n",
      "\n"
     ]
    }
   ],
   "source": [
    "from sklearn import metrics\n",
    "from sklearn.metrics import classification_report\n",
    "print(classification_report(t_test,t_pred3))"
   ]
  },
  {
   "cell_type": "markdown",
   "metadata": {},
   "source": [
    "From the classification report above, the accuracy is 0.79 or 79% while the recall rate for the positive class is calculated to be 0.83 or 83% of the positive class accurately. Hence, the model has a very high predictive performance."
   ]
  },
  {
   "cell_type": "markdown",
   "metadata": {},
   "source": [
    "### Support Vector Classifier\n",
    "\n",
    "As a next step, we go for Support Vector Classifier to check if we can make a further improvement in the accuracy of our predictions. As in every model, we perform Grid Search here as well. We pass the parameters 'C' and 'Kernel' to the parameter grid of our grid search algorithm."
   ]
  },
  {
   "cell_type": "code",
   "execution_count": 57,
   "metadata": {},
   "outputs": [
    {
     "name": "stdout",
     "output_type": "stream",
     "text": [
      "Fitting 15 folds for each of 20 candidates, totalling 300 fits\n"
     ]
    },
    {
     "name": "stderr",
     "output_type": "stream",
     "text": [
      "[Parallel(n_jobs=1)]: Using backend SequentialBackend with 1 concurrent workers.\n",
      "[Parallel(n_jobs=1)]: Done 300 out of 300 | elapsed:    4.4s finished\n"
     ]
    }
   ],
   "source": [
    "# SVC\n",
    "\n",
    "from sklearn import svm\n",
    "\n",
    "params_SVC = {'C': [1,2,3,4,5,6,7,8,9,10], \n",
    "          'kernel': ['linear','rbf']}\n",
    "\n",
    "gs_SVC = GridSearchCV(estimator=svm.SVC(),\n",
    "                     param_grid=params_SVC, \n",
    "                     cv=cv_method,\n",
    "                     verbose=1, \n",
    "                     scoring='accuracy')\n",
    "\n",
    "gs_SVC.fit(D_train, t_train);\n"
   ]
  },
  {
   "cell_type": "markdown",
   "metadata": {},
   "source": [
    "Now let us find out the best parameters."
   ]
  },
  {
   "cell_type": "code",
   "execution_count": 58,
   "metadata": {},
   "outputs": [
    {
     "data": {
      "text/plain": [
       "{'C': 2, 'kernel': 'linear'}"
      ]
     },
     "execution_count": 58,
     "metadata": {},
     "output_type": "execute_result"
    }
   ],
   "source": [
    "gs_SVC.best_params_"
   ]
  },
  {
   "cell_type": "markdown",
   "metadata": {},
   "source": [
    "We find that the best model is the Support Vector Model with 'C' equal to 2 and 'Kernel' set to linear. \n",
    "\n",
    "Let us have a look at all the accuracy scores of different models iterated by the grid search algorithm."
   ]
  },
  {
   "cell_type": "code",
   "execution_count": 59,
   "metadata": {},
   "outputs": [
    {
     "data": {
      "text/plain": [
       "array([0.86532213, 0.83837535, 0.86733894, 0.8535014 , 0.86336134,\n",
       "       0.85165266, 0.86532213, 0.85361345, 0.86145658, 0.85170868,\n",
       "       0.86145658, 0.84980392, 0.86145658, 0.85182073, 0.86145658,\n",
       "       0.84991597, 0.85753501, 0.84991597, 0.8594958 , 0.84795518])"
      ]
     },
     "execution_count": 59,
     "metadata": {},
     "output_type": "execute_result"
    }
   ],
   "source": [
    "Mean_Scores_CV_SVC = gs_SVC.cv_results_['mean_test_score']\n",
    "Mean_Scores_CV_SVC"
   ]
  },
  {
   "cell_type": "markdown",
   "metadata": {},
   "source": [
    "Let us plot and analyse the performance of the hyper parameters of the Support Vector Classifier."
   ]
  },
  {
   "cell_type": "code",
   "execution_count": 60,
   "metadata": {},
   "outputs": [
    {
     "data": {
      "image/png": "[encoded data removed]",
      "text/plain": [
       "<Figure size 432x288 with 1 Axes>"
      ]
     },
     "metadata": {
      "image/png": {
       "height": 281,
       "width": 400
      }
     },
     "output_type": "display_data"
    }
   ],
   "source": [
    "results_SVC = pd.DataFrame(gs_SVC.cv_results_['params'])\n",
    "results_SVC['test_score'] = gs_SVC.cv_results_['mean_test_score']\n",
    "\n",
    "for i in ['linear','rbf']:\n",
    "    temp = results_SVC[results_SVC['kernel'] == i]\n",
    "    temp_average = temp.groupby('C').agg({'test_score': 'mean'})\n",
    "    plt.plot(temp_average, marker = '.', label = i)\n",
    "   \n",
    "   \n",
    "plt.legend()\n",
    "plt.xlabel('C')\n",
    "plt.ylabel(\"Mean CV Score\")\n",
    "plt.title(\"SVC Performance Comparison\")\n",
    "plt.show()"
   ]
  },
  {
   "cell_type": "markdown",
   "metadata": {},
   "source": [
    "From the above plot, it is more evident that the SVC model with linear kernel and 'C' value set at 2 performs better than any other SVC model and hence we can go for predictions with this model."
   ]
  },
  {
   "cell_type": "code",
   "execution_count": 61,
   "metadata": {},
   "outputs": [],
   "source": [
    "t_pred4 = gs_SVC.predict(D_test)"
   ]
  },
  {
   "cell_type": "code",
   "execution_count": 62,
   "metadata": {},
   "outputs": [
    {
     "name": "stdout",
     "output_type": "stream",
     "text": [
      "            y_pred_No  y_pred_Yes\n",
      "y_test_No           8           5\n",
      "y_test_Yes          0          30\n"
     ]
    }
   ],
   "source": [
    "from sklearn.metrics import confusion_matrix\n",
    "cm = pd.DataFrame(confusion_matrix(t_test, t_pred4))\n",
    "cm.columns = ['y_pred_No', 'y_pred_Yes']\n",
    "cm.index = ['y_test_No','y_test_Yes']\n",
    "print(cm)"
   ]
  },
  {
   "cell_type": "markdown",
   "metadata": {},
   "source": [
    "From above confusion matrix, we could see that model has correctly predicted 8 Negative responses and 30 positive responses. It did not capture any false negative values which is a great result, however it predicted 5 false positive values."
   ]
  },
  {
   "cell_type": "code",
   "execution_count": 63,
   "metadata": {},
   "outputs": [
    {
     "name": "stdout",
     "output_type": "stream",
     "text": [
      "              precision    recall  f1-score   support\n",
      "\n",
      "           0       1.00      0.62      0.76        13\n",
      "           1       0.86      1.00      0.92        30\n",
      "\n",
      "    accuracy                           0.88        43\n",
      "   macro avg       0.93      0.81      0.84        43\n",
      "weighted avg       0.90      0.88      0.87        43\n",
      "\n"
     ]
    }
   ],
   "source": [
    "from sklearn import metrics\n",
    "from sklearn.metrics import classification_report\n",
    "print(classification_report(t_test,t_pred4))\n"
   ]
  },
  {
   "cell_type": "markdown",
   "metadata": {},
   "source": [
    "From the classification report, we could see that the accuracy score is 0.88 which is the best score among all the models that we have fit. It has achieved a recall score of 100% to the positive response variable which is a good sign that model has been fit well."
   ]
  },
  {
   "cell_type": "markdown",
   "metadata": {},
   "source": [
    "## Model Comparison  <a name=\"mc\"></a>\n",
    "\n",
    "Now that we have fit all the models to our dataset, let us have a look at the accuracy score each of the models have obtained. "
   ]
  },
  {
   "cell_type": "code",
   "execution_count": 64,
   "metadata": {},
   "outputs": [
    {
     "name": "stdout",
     "output_type": "stream",
     "text": [
      "Accuracy of K-NN Classifier is:  0.8604651162790697\n",
      "Accuracy of Decision Tree Classifier is:  0.8372093023255814\n",
      "Accuracy of Naive Bayes Classifier is:  0.7906976744186046\n",
      "Accuracy of Support Vector Classifier is:  0.8837209302325582\n"
     ]
    }
   ],
   "source": [
    "from sklearn import metrics\n",
    "\n",
    "print(\"Accuracy of K-NN Classifier is: \", metrics.accuracy_score(t_test,t_pred1))\n",
    "print(\"Accuracy of Decision Tree Classifier is: \", metrics.accuracy_score(t_test,t_pred2))\n",
    "print(\"Accuracy of Naive Bayes Classifier is: \", metrics.accuracy_score(t_test,t_pred3))\n",
    "print(\"Accuracy of Support Vector Classifier is: \", metrics.accuracy_score(t_test,t_pred4))"
   ]
  },
  {
   "cell_type": "markdown",
   "metadata": {},
   "source": [
    "As we could see, Support Vector Classifier algorithm with hyperparameters ‘C’ as 2 and ‘Kernel’ as ‘linear’ has achieved the highest accuracy score of 88.37% while 6-KNN classifier algorithm has achieved the second highest accuracy score of 86.04%. \n",
    "\n",
    "\n",
    "However, to find if the difference between the accuracy scores of the models are significant, we go for paired t-test. We opt for independent two sample t-test since the arrays of the mean scores are different in size for each model.\n"
   ]
  },
  {
   "cell_type": "code",
   "execution_count": 65,
   "metadata": {},
   "outputs": [
    {
     "name": "stdout",
     "output_type": "stream",
     "text": [
      "5.263882198472973e-59\n",
      "9.144555584732876e-65\n",
      "9.867656438142087e-79\n"
     ]
    }
   ],
   "source": [
    "from scipy import stats\n",
    "print(stats.ttest_ind(Mean_Scores_CV_KNN, Mean_Scores_CV_SVC).pvalue)\n",
    "print(stats.ttest_ind(Mean_Scores_CV_DTree, Mean_Scores_CV_SVC).pvalue)\n",
    "print(stats.ttest_ind(Mean_Scores_CV_NB, Mean_Scores_CV_SVC).pvalue)\n"
   ]
  },
  {
   "cell_type": "markdown",
   "metadata": {},
   "source": [
    "We could see that the p-value is well below than the significance level 0.05 and hence we can conclude that SVC accuracy score is significantly different to that of other scores."
   ]
  },
  {
   "cell_type": "markdown",
   "metadata": {},
   "source": [
    "### CRITIQUE AND LIMITATIONS <a name=\"cl\"></a>\n",
    "\n",
    "Like every other statistical analysis, this project has its own limitations. First of all, the dataset was a little imbalanced with improper proportion of positive and negative response variables, which had an impact on the recall scores of all the models that we fitted. However our aim was to predict whether the students will get placed and hence we can be satisfied with the recall scores of positive target responses (1). \n",
    "\n",
    "Secondly, though Grid Search Algorithm gives us the opportunity to perform classification of a model with multiple parameters at a single go, the algorithm is so time consuming. However that has been dealt to some extent, by passing only the important parameters to the parameter grid of the grid search algorithm.\n",
    "\n",
    "These were the limitations faced in the analysis of placement of students based on the previous academic grades."
   ]
  },
  {
   "cell_type": "markdown",
   "metadata": {},
   "source": [
    "### Summary & Conclusions: <a name=\"sc\"></a>\n",
    "\n",
    "#### Project Summary: <a name=\"ps\"></a>\n",
    "\n",
    "For the first phase of the project the 'Campus Recruitment, 2020' dataset was prepared by examining the data types of the features and checking for NA values. Further the summary statistics was calculated to check for any impossible values. The outliers were detected using z-score and the observations with a z-score greater than 3 were dropped. \n",
    "\n",
    "For the second phase, as it is a classification problem, the following model algorithms were applied:\n",
    "* K-NN Classifier with Manhattan distance among other parameters. \n",
    "* Decision Tree Classifier with split criterion set to entropy.\n",
    "* Naive Bayes Classifier with variance smoothing value of 0.43. \n",
    "* Suport-Vector Classifier with C value of 2 and kernel set to linear. \n",
    "\n",
    "Finally, independent paired two samples T-Test was performed to determine the statistical differences between the accuracy scores of the classifiers to decide on which was the best model. \n",
    "\n",
    "#### Summary of Findings: <a name=\"sof\"></a>\n",
    "\n",
    "The business problem for this particualar dataset is to predict if a student would be placed based on the given attributes. Since it was clear that it was a binomial classification problem as the there were only 2 different target labels to classify. \n",
    "\n",
    "In Phase 1, initial visual analysis revealed that 68.84% of the students were placed. <br> \n",
    "In phase 2, we applied 4 disparate models to the data in the attempt of determining the best predictive model. Feature Selection revealed that Senior Secondary points, Higher Secondary points and points score in Undergraduations were the most influencing features among the top 9.<br>\n",
    "Further, after model evaluation and comparison, it was clear that the Support Vector Classifier was the optimal model with an accuracy of 88% slightly above K-NN Classifier with 86% accuracy. Naive Bayes Classifier had the least accuracy value of 79%.\n",
    "\n",
    "#### Conclusion: <a name=\"con\"></a>\n",
    "\n",
    "The prediction of campus placement was successfully completed by undergoing correct process of Machine Learning. With data cleaning done in phase 1, we fit multiple models to our dataset in phase 2 and finally conclude that Support Vector Classifier performs better in correctly classifying the students who would get placed or not based on their previous academic performances."
   ]
  },
  {
   "cell_type": "markdown",
   "metadata": {},
   "source": [
    "## References <a name=\"ref\"></a>\n",
    "\n",
    "[1] Roshan, B. (2021). Campus Recruitment. Retrieved 5 April 2021, from https://www.kaggle.com/benroshan/factors-affecting-campus-placement"
   ]
  }
 ],
 "metadata": {
  "kernelspec": {
   "display_name": "Python 3",
   "language": "python",
   "name": "python3"
  },
  "language_info": {
   "codemirror_mode": {
    "name": "ipython",
    "version": 3
   },
   "file_extension": ".py",
   "mimetype": "text/x-python",
   "name": "python",
   "nbconvert_exporter": "python",
   "pygments_lexer": "ipython3",
   "version": "3.8.5"
  }
 },
 "nbformat": 4,
 "nbformat_minor": 4
}
